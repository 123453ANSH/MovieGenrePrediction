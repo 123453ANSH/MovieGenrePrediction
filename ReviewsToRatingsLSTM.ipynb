{
 "cells": [
  {
   "cell_type": "code",
   "execution_count": 4,
   "metadata": {},
   "outputs": [],
   "source": [
    "import numpy as np\n",
    "import pandas as pd\n",
    "import re\n",
    "from collections import Counter\n",
    "from keras.preprocessing.text import Tokenizer\n",
    "from keras.utils import np_utils\n",
    "from keras.models import Sequential, load_model\n",
    "from keras.layers import Dense, Dropout, LSTM, Bidirectional\n",
    "from nltk.corpus import stopwords\n",
    "from nltk.tokenize import word_tokenize\n",
    "import sklearn\n",
    "from sklearn.model_selection import train_test_split"
   ]
  },
  {
   "cell_type": "code",
   "execution_count": 5,
   "metadata": {},
   "outputs": [],
   "source": [
    "# removing some words and adding some to increase accuracy\n",
    "stopwords = stopwords.words('english')\n",
    "newStopWords = ['', ' ', '  ', '   ', '    ', ' s']\n",
    "stopwords.extend(newStopWords)\n",
    "stopwords.remove('no')\n",
    "stopwords.remove('not')\n",
    "stopwords.remove('very')\n",
    "stop_words = set(stopwords)\n",
    "def clean_doc(doc, vocab=None):\n",
    "    tokens = word_tokenize(doc)\n",
    "    # keeping only alphabets    \n",
    "    tokens = [re.sub('[^a-zA-Z]', ' ', word) for word in tokens] \n",
    "    # converting to lowercase\n",
    "    tokens = [word.lower() for word in tokens]\n",
    "    # removing stopwords\n",
    "    tokens = [w for w in tokens if not w in stop_words]\n",
    "    # removing single characters if any\n",
    "    tokens = [word for word in tokens if len(word) > 1]\n",
    "    if vocab:\n",
    "        tokens = [w for w in tokens if w in vocab]\n",
    "        tokens = ' '.join(tokens)        \n",
    "    return tokens\n",
    "def add_doc_to_vocab(text, vocab):\n",
    "    tokens = clean_doc(text)\n",
    "    vocab.update(tokens)\n",
    "def save_list(lines, filename):\n",
    "    data = '\\n'.join(lines)\n",
    "    file = open(filename, 'w')\n",
    "    file.write(data)\n",
    "    file.close()\n",
    "    \n",
    "def load_doc(filename):\n",
    "    file = open(filename, 'r')\n",
    "    text = file.read()\n",
    "    file.close()\n",
    "    return text"
   ]
  },
  {
   "cell_type": "code",
   "execution_count": 6,
   "metadata": {},
   "outputs": [
    {
     "data": {
      "text/html": [
       "<div>\n",
       "<style scoped>\n",
       "    .dataframe tbody tr th:only-of-type {\n",
       "        vertical-align: middle;\n",
       "    }\n",
       "\n",
       "    .dataframe tbody tr th {\n",
       "        vertical-align: top;\n",
       "    }\n",
       "\n",
       "    .dataframe thead th {\n",
       "        text-align: right;\n",
       "    }\n",
       "</style>\n",
       "<table border=\"1\" class=\"dataframe\">\n",
       "  <thead>\n",
       "    <tr style=\"text-align: right;\">\n",
       "      <th></th>\n",
       "      <th>Unnamed: 0</th>\n",
       "      <th>label</th>\n",
       "      <th>sentences</th>\n",
       "    </tr>\n",
       "  </thead>\n",
       "  <tbody>\n",
       "    <tr>\n",
       "      <th>0</th>\n",
       "      <td>0</td>\n",
       "      <td>8</td>\n",
       "      <td>this movie came three now im twenty seven godd...</td>\n",
       "    </tr>\n",
       "    <tr>\n",
       "      <th>1</th>\n",
       "      <td>1</td>\n",
       "      <td>7</td>\n",
       "      <td>throw dice take turn jumanji made critics gurn...</td>\n",
       "    </tr>\n",
       "    <tr>\n",
       "      <th>2</th>\n",
       "      <td>2</td>\n",
       "      <td>8</td>\n",
       "      <td>you dont live live among remains dead people h...</td>\n",
       "    </tr>\n",
       "    <tr>\n",
       "      <th>3</th>\n",
       "      <td>3</td>\n",
       "      <td>5</td>\n",
       "      <td>good enough it doesnt come close disneys film ...</td>\n",
       "    </tr>\n",
       "    <tr>\n",
       "      <th>4</th>\n",
       "      <td>4</td>\n",
       "      <td>7</td>\n",
       "      <td>really solid entry series brosnan personally f...</td>\n",
       "    </tr>\n",
       "  </tbody>\n",
       "</table>\n",
       "</div>"
      ],
      "text/plain": [
       "   Unnamed: 0  label                                          sentences\n",
       "0           0      8  this movie came three now im twenty seven godd...\n",
       "1           1      7  throw dice take turn jumanji made critics gurn...\n",
       "2           2      8  you dont live live among remains dead people h...\n",
       "3           3      5  good enough it doesnt come close disneys film ...\n",
       "4           4      7  really solid entry series brosnan personally f..."
      ]
     },
     "execution_count": 6,
     "metadata": {},
     "output_type": "execute_result"
    }
   ],
   "source": [
    "reviews=pd.read_csv(\"ReviewsDataset.csv\")\n",
    "reviews.head()"
   ]
  },
  {
   "cell_type": "code",
   "execution_count": 7,
   "metadata": {},
   "outputs": [],
   "source": [
    "X=reviews[\"sentences\"]\n",
    "y=reviews[\"label\"]"
   ]
  },
  {
   "cell_type": "code",
   "execution_count": 8,
   "metadata": {},
   "outputs": [],
   "source": [
    "y = np_utils.to_categorical(y)"
   ]
  },
  {
   "cell_type": "code",
   "execution_count": 10,
   "metadata": {},
   "outputs": [
    {
     "name": "stdout",
     "output_type": "stream",
     "text": [
      "22798\n",
      "[('film', 1994), ('one', 1276), ('movie', 1266), ('like', 799), ('time', 689), ('story', 683), ('great', 593), ('good', 563), ('well', 546), ('even', 533), ('also', 513), ('first', 507), ('still', 496), ('would', 487), ('much', 482), ('really', 450), ('films', 444), ('cast', 391), ('best', 385), ('see', 362)]\n"
     ]
    }
   ],
   "source": [
    "# splitting into training and testing data\n",
    "X_train, X_test, y_train, y_test = train_test_split(X, y, test_size = 0.1, random_state = 0)\n",
    "# removing unnecessary data\n",
    "del reviews, X, y\n",
    "# creating a vocabulary of words\n",
    "vocab = Counter()\n",
    "len_train = len(X_train)\n",
    "for i in range(len_train):\n",
    "    text = X_train.iloc[i]\n",
    "    add_doc_to_vocab(text , vocab)\n",
    "print(len(vocab))\n",
    "# print the 20 most common words\n",
    "print(vocab.most_common(20))\n",
    "# removing tokens which occur less than 3 times.\n",
    "min_occurance = 2\n",
    "tokens = [k for k,c in vocab.items() if (c >= min_occurance & len(k) > 1)]\n",
    "# saving the vocabulary for futute use\n",
    "save_list(tokens, 'vocab.txt')\n",
    "# loading the saved vocabulary\n",
    "vocab = load_doc('vocab.txt')\n",
    "vocab = vocab.split()\n",
    "vocab = set(vocab)\n",
    "train_doc = []\n",
    "for i in range(len_train):\n",
    "    text = X_train.iloc[i]\n",
    "    doc = clean_doc(text, vocab)\n",
    "    train_doc.append(doc)\n",
    "test_doc = []\n",
    "len_test = len(X_test)\n",
    "for i in range(len_test):\n",
    "    text = X_test.iloc[i]\n",
    "    doc = clean_doc(text, vocab)\n",
    "    test_doc.append(doc)"
   ]
  },
  {
   "cell_type": "code",
   "execution_count": 11,
   "metadata": {},
   "outputs": [],
   "source": [
    "# storing indexes where no tokens are present\n",
    "index_train = []\n",
    "for i in range(len(train_doc)):\n",
    "    if len(train_doc[i]) == 0 :\n",
    "        index_train.append(i)\n",
    "    \n",
    "index_test = []\n",
    "for i in range(len(test_doc)):\n",
    "    if len(test_doc[i]) == 0 :\n",
    "        index_test.append(i)\n",
    "# dropping the unnecessary data\n",
    "train_doc = np.delete(train_doc, index_train, 0)\n",
    "test_doc = np.delete(test_doc, index_test, 0)\n",
    "y_train = np.delete(y_train, index_train, 0)\n",
    "y_test = np.delete(y_test, index_test, 0)\n"
   ]
  },
  {
   "cell_type": "code",
   "execution_count": 12,
   "metadata": {},
   "outputs": [],
   "source": [
    "tokenizer = Tokenizer()\n",
    "tokenizer.fit_on_texts(train_doc)\n",
    "X_train = tokenizer.texts_to_matrix(train_doc, mode='binary')\n",
    "X_test = tokenizer.texts_to_matrix(test_doc, mode='binary')\n",
    "n_words = X_test.shape[1]"
   ]
  },
  {
   "cell_type": "code",
   "execution_count": 16,
   "metadata": {},
   "outputs": [
    {
     "name": "stdout",
     "output_type": "stream",
     "text": [
      "(835, 6106)\n"
     ]
    }
   ],
   "source": [
    "print(X_train.shape)"
   ]
  },
  {
   "cell_type": "code",
   "execution_count": 14,
   "metadata": {},
   "outputs": [
    {
     "name": "stdout",
     "output_type": "stream",
     "text": [
      "WARNING:tensorflow:From /opt/anaconda3/envs/nmep/lib/python3.6/site-packages/keras/backend/tensorflow_backend.py:422: The name tf.global_variables is deprecated. Please use tf.compat.v1.global_variables instead.\n",
      "\n",
      "Epoch 1/20\n",
      "835/835 [==============================] - 1s 1ms/step - loss: 2.1013 - accuracy: 0.3150\n",
      "Epoch 2/20\n",
      "835/835 [==============================] - 0s 450us/step - loss: 1.7024 - accuracy: 0.3641\n",
      "Epoch 3/20\n",
      "835/835 [==============================] - 0s 449us/step - loss: 1.3001 - accuracy: 0.6623\n",
      "Epoch 4/20\n",
      "835/835 [==============================] - 0s 453us/step - loss: 0.9775 - accuracy: 0.7317\n",
      "Epoch 5/20\n",
      "835/835 [==============================] - 0s 448us/step - loss: 0.7096 - accuracy: 0.8323\n",
      "Epoch 6/20\n",
      "835/835 [==============================] - 0s 488us/step - loss: 0.5215 - accuracy: 0.8886\n",
      "Epoch 7/20\n",
      "835/835 [==============================] - 0s 466us/step - loss: 0.3854 - accuracy: 0.9293\n",
      "Epoch 8/20\n",
      "835/835 [==============================] - 0s 480us/step - loss: 0.2900 - accuracy: 0.9449\n",
      "Epoch 9/20\n",
      "835/835 [==============================] - 0s 464us/step - loss: 0.2205 - accuracy: 0.9581\n",
      "Epoch 10/20\n",
      "835/835 [==============================] - 0s 474us/step - loss: 0.1715 - accuracy: 0.9689\n",
      "Epoch 11/20\n",
      "835/835 [==============================] - 0s 475us/step - loss: 0.1380 - accuracy: 0.9784\n",
      "Epoch 12/20\n",
      "835/835 [==============================] - 0s 493us/step - loss: 0.1177 - accuracy: 0.9796\n",
      "Epoch 13/20\n",
      "835/835 [==============================] - 0s 456us/step - loss: 0.0982 - accuracy: 0.9868\n",
      "Epoch 14/20\n",
      "835/835 [==============================] - 0s 498us/step - loss: 0.0820 - accuracy: 0.9892\n",
      "Epoch 15/20\n",
      "835/835 [==============================] - 0s 471us/step - loss: 0.0713 - accuracy: 0.9904\n",
      "Epoch 16/20\n",
      "835/835 [==============================] - 0s 468us/step - loss: 0.0618 - accuracy: 0.9928\n",
      "Epoch 17/20\n",
      "835/835 [==============================] - 0s 481us/step - loss: 0.0581 - accuracy: 0.9928\n",
      "Epoch 18/20\n",
      "835/835 [==============================] - 0s 502us/step - loss: 0.0600 - accuracy: 0.9928\n",
      "Epoch 19/20\n",
      "835/835 [==============================] - 0s 467us/step - loss: 0.0564 - accuracy: 0.9916\n",
      "Epoch 20/20\n",
      "835/835 [==============================] - 0s 455us/step - loss: 0.0440 - accuracy: 0.9964\n"
     ]
    },
    {
     "name": "stderr",
     "output_type": "stream",
     "text": [
      "/opt/anaconda3/envs/nmep/lib/python3.6/site-packages/keras/engine/sequential.py:111: UserWarning: `Sequential.model` is deprecated. `Sequential` is a subclass of `Model`, you can just use your `Sequential` instance directly.\n",
      "  warnings.warn('`Sequential.model` is deprecated. '\n"
     ]
    }
   ],
   "source": [
    "# LSTM Model\n",
    "model = Sequential()\n",
    "model.add(Bidirectional(LSTM(100, activation='relu'), input_shape=(None,n_words)))\n",
    "model.add(Dropout(0.2))\n",
    "model.add(Dense(units=50, input_dim=100, activation='relu'))\n",
    "model.add(Dense(9, activation='softmax'))\n",
    "model.compile(loss='categorical_crossentropy', optimizer='adam', metrics=['accuracy'])\n",
    "# fitting the LSTM model\n",
    "model.fit(X_train.reshape((-1, 1, n_words)), y_train, epochs=20, batch_size=100)\n",
    "# finding test loss and test accuracy\n",
    "loss_rnn, acc_rnn = model.evaluate(X_test.reshape((-1, 1, n_words)), y_test, verbose=0)\n",
    "# saving model weights\n",
    "model.model.save('rnn.h5')\n",
    "# loading saved weights\n",
    "model_rnn = load_model('rnn.h5')"
   ]
  },
  {
   "cell_type": "code",
   "execution_count": null,
   "metadata": {},
   "outputs": [],
   "source": []
  }
 ],
 "metadata": {
  "kernelspec": {
   "display_name": "nmep",
   "language": "python",
   "name": "nmep"
  },
  "language_info": {
   "codemirror_mode": {
    "name": "ipython",
    "version": 3
   },
   "file_extension": ".py",
   "mimetype": "text/x-python",
   "name": "python",
   "nbconvert_exporter": "python",
   "pygments_lexer": "ipython3",
   "version": "3.6.13"
  }
 },
 "nbformat": 4,
 "nbformat_minor": 4
}
