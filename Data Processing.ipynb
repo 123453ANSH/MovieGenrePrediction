{
 "cells": [
  {
   "cell_type": "code",
   "execution_count": 1,
   "metadata": {},
   "outputs": [
    {
     "name": "stderr",
     "output_type": "stream",
     "text": [
      "Using TensorFlow backend.\n",
      "/opt/anaconda3/envs/nmep/lib/python3.6/site-packages/tensorflow/python/framework/dtypes.py:516: FutureWarning: Passing (type, 1) or '1type' as a synonym of type is deprecated; in a future version of numpy, it will be understood as (type, (1,)) / '(1,)type'.\n",
      "  _np_qint8 = np.dtype([(\"qint8\", np.int8, 1)])\n",
      "/opt/anaconda3/envs/nmep/lib/python3.6/site-packages/tensorflow/python/framework/dtypes.py:517: FutureWarning: Passing (type, 1) or '1type' as a synonym of type is deprecated; in a future version of numpy, it will be understood as (type, (1,)) / '(1,)type'.\n",
      "  _np_quint8 = np.dtype([(\"quint8\", np.uint8, 1)])\n",
      "/opt/anaconda3/envs/nmep/lib/python3.6/site-packages/tensorflow/python/framework/dtypes.py:518: FutureWarning: Passing (type, 1) or '1type' as a synonym of type is deprecated; in a future version of numpy, it will be understood as (type, (1,)) / '(1,)type'.\n",
      "  _np_qint16 = np.dtype([(\"qint16\", np.int16, 1)])\n",
      "/opt/anaconda3/envs/nmep/lib/python3.6/site-packages/tensorflow/python/framework/dtypes.py:519: FutureWarning: Passing (type, 1) or '1type' as a synonym of type is deprecated; in a future version of numpy, it will be understood as (type, (1,)) / '(1,)type'.\n",
      "  _np_quint16 = np.dtype([(\"quint16\", np.uint16, 1)])\n",
      "/opt/anaconda3/envs/nmep/lib/python3.6/site-packages/tensorflow/python/framework/dtypes.py:520: FutureWarning: Passing (type, 1) or '1type' as a synonym of type is deprecated; in a future version of numpy, it will be understood as (type, (1,)) / '(1,)type'.\n",
      "  _np_qint32 = np.dtype([(\"qint32\", np.int32, 1)])\n",
      "/opt/anaconda3/envs/nmep/lib/python3.6/site-packages/tensorflow/python/framework/dtypes.py:525: FutureWarning: Passing (type, 1) or '1type' as a synonym of type is deprecated; in a future version of numpy, it will be understood as (type, (1,)) / '(1,)type'.\n",
      "  np_resource = np.dtype([(\"resource\", np.ubyte, 1)])\n",
      "/opt/anaconda3/envs/nmep/lib/python3.6/site-packages/tensorboard/compat/tensorflow_stub/dtypes.py:541: FutureWarning: Passing (type, 1) or '1type' as a synonym of type is deprecated; in a future version of numpy, it will be understood as (type, (1,)) / '(1,)type'.\n",
      "  _np_qint8 = np.dtype([(\"qint8\", np.int8, 1)])\n",
      "/opt/anaconda3/envs/nmep/lib/python3.6/site-packages/tensorboard/compat/tensorflow_stub/dtypes.py:542: FutureWarning: Passing (type, 1) or '1type' as a synonym of type is deprecated; in a future version of numpy, it will be understood as (type, (1,)) / '(1,)type'.\n",
      "  _np_quint8 = np.dtype([(\"quint8\", np.uint8, 1)])\n",
      "/opt/anaconda3/envs/nmep/lib/python3.6/site-packages/tensorboard/compat/tensorflow_stub/dtypes.py:543: FutureWarning: Passing (type, 1) or '1type' as a synonym of type is deprecated; in a future version of numpy, it will be understood as (type, (1,)) / '(1,)type'.\n",
      "  _np_qint16 = np.dtype([(\"qint16\", np.int16, 1)])\n",
      "/opt/anaconda3/envs/nmep/lib/python3.6/site-packages/tensorboard/compat/tensorflow_stub/dtypes.py:544: FutureWarning: Passing (type, 1) or '1type' as a synonym of type is deprecated; in a future version of numpy, it will be understood as (type, (1,)) / '(1,)type'.\n",
      "  _np_quint16 = np.dtype([(\"quint16\", np.uint16, 1)])\n",
      "/opt/anaconda3/envs/nmep/lib/python3.6/site-packages/tensorboard/compat/tensorflow_stub/dtypes.py:545: FutureWarning: Passing (type, 1) or '1type' as a synonym of type is deprecated; in a future version of numpy, it will be understood as (type, (1,)) / '(1,)type'.\n",
      "  _np_qint32 = np.dtype([(\"qint32\", np.int32, 1)])\n",
      "/opt/anaconda3/envs/nmep/lib/python3.6/site-packages/tensorboard/compat/tensorflow_stub/dtypes.py:550: FutureWarning: Passing (type, 1) or '1type' as a synonym of type is deprecated; in a future version of numpy, it will be understood as (type, (1,)) / '(1,)type'.\n",
      "  np_resource = np.dtype([(\"resource\", np.ubyte, 1)])\n"
     ]
    }
   ],
   "source": [
    "import numpy as np\n",
    "import pandas as pd\n",
    "import sklearn\n",
    "\n",
    "import keras\n",
    "from keras.preprocessing import image\n",
    "\n",
    "from tqdm import tqdm"
   ]
  },
  {
   "cell_type": "code",
   "execution_count": 2,
   "metadata": {},
   "outputs": [
    {
     "name": "stdout",
     "output_type": "stream",
     "text": [
      "Shape:  (45466, 24)\n",
      "Features:  Index(['adult', 'belongs_to_collection', 'budget', 'genres', 'homepage', 'id',\n",
      "       'imdb_id', 'original_language', 'original_title', 'overview',\n",
      "       'popularity', 'poster_path', 'production_companies',\n",
      "       'production_countries', 'release_date', 'revenue', 'runtime',\n",
      "       'spoken_languages', 'status', 'tagline', 'title', 'video',\n",
      "       'vote_average', 'vote_count'],\n",
      "      dtype='object')\n"
     ]
    },
    {
     "name": "stderr",
     "output_type": "stream",
     "text": [
      "/Users/harshikajalan/.local/lib/python3.6/site-packages/IPython/core/interactiveshell.py:3072: DtypeWarning: Columns (10) have mixed types.Specify dtype option on import or set low_memory=False.\n",
      "  interactivity=interactivity, compiler=compiler, result=result)\n"
     ]
    }
   ],
   "source": [
    "movies = pd.read_csv('archive/movies_metadata.csv')\n",
    "print(\"Shape: \", movies.shape)\n",
    "print(\"Features: \", movies.columns)"
   ]
  },
  {
   "cell_type": "code",
   "execution_count": 19,
   "metadata": {},
   "outputs": [
    {
     "data": {
      "text/plain": [
       "0    tt0114709\n",
       "1    tt0113497\n",
       "2    tt0113228\n",
       "3    tt0114885\n",
       "4    tt0113041\n",
       "Name: imdb_id, dtype: object"
      ]
     },
     "execution_count": 19,
     "metadata": {},
     "output_type": "execute_result"
    }
   ],
   "source": [
    "movies.head()['imdb_id']"
   ]
  },
  {
   "cell_type": "code",
   "execution_count": 5,
   "metadata": {},
   "outputs": [
    {
     "data": {
      "text/plain": [
       "0    [{'id': 16, 'name': 'Animation'}, {'id': 35, '...\n",
       "1    [{'id': 12, 'name': 'Adventure'}, {'id': 14, '...\n",
       "2    [{'id': 10749, 'name': 'Romance'}, {'id': 35, ...\n",
       "3    [{'id': 35, 'name': 'Comedy'}, {'id': 18, 'nam...\n",
       "4                       [{'id': 35, 'name': 'Comedy'}]\n",
       "Name: genres, dtype: object"
      ]
     },
     "execution_count": 5,
     "metadata": {},
     "output_type": "execute_result"
    }
   ],
   "source": [
    "movies.head()['genres']"
   ]
  },
  {
   "cell_type": "code",
   "execution_count": 6,
   "metadata": {},
   "outputs": [
    {
     "data": {
      "text/plain": [
       "0    /rhIRbceoE9lR4veEXuwCC2wARtG.jpg\n",
       "1    /vzmL6fP7aPKNKPRTFnZmiUfciyV.jpg\n",
       "2    /6ksm1sjKMFLbO7UY2i6G1ju9SML.jpg\n",
       "3    /16XOMpEaLWkrcPqSQqhTmeJuqQl.jpg\n",
       "4    /e64sOI48hQXyru7naBFyssKFxVd.jpg\n",
       "Name: poster_path, dtype: object"
      ]
     },
     "execution_count": 6,
     "metadata": {},
     "output_type": "execute_result"
    }
   ],
   "source": [
    "movies.head()['poster_path']"
   ]
  },
  {
   "cell_type": "code",
   "execution_count": 20,
   "metadata": {},
   "outputs": [
    {
     "data": {
      "text/plain": [
       "\"[{'id': 16, 'name': 'Animation'}, {'id': 35, 'name': 'Comedy'}, {'id': 10751, 'name': 'Family'}]\""
      ]
     },
     "execution_count": 20,
     "metadata": {},
     "output_type": "execute_result"
    }
   ],
   "source": [
    "movies.head()['genres'][0]"
   ]
  },
  {
   "cell_type": "code",
   "execution_count": 5,
   "metadata": {},
   "outputs": [
    {
     "data": {
      "text/plain": [
       "\"[{'id': 12, 'name': 'Adventure'}, {'id': 14, 'name': 'Fantasy'}, {'id': 10751, 'name': 'Family'}]\""
      ]
     },
     "execution_count": 5,
     "metadata": {},
     "output_type": "execute_result"
    }
   ],
   "source": [
    "movies.head()['genres'][1]"
   ]
  },
  {
   "cell_type": "code",
   "execution_count": 16,
   "metadata": {
    "scrolled": true
   },
   "outputs": [
    {
     "name": "stdout",
     "output_type": "stream",
     "text": [
      "Not Found:  Toy Story https://www.themoviedb.org/t/p/w1280/rhIRbceoE9lR4veEXuwCC2wARtG.jpg\n",
      "Not Found:  Grumpier Old Men https://www.themoviedb.org/t/p/w1280/6ksm1sjKMFLbO7UY2i6G1ju9SML.jpg\n",
      "Not Found:  Waiting to Exhale https://www.themoviedb.org/t/p/w1280/16XOMpEaLWkrcPqSQqhTmeJuqQl.jpg\n",
      "Not Found:  Father of the Bride Part II https://www.themoviedb.org/t/p/w1280/e64sOI48hQXyru7naBFyssKFxVd.jpg\n",
      "Not Found:  Heat https://www.themoviedb.org/t/p/w1280/zMyfPUelumio3tiDKPffaUpsQTD.jpg\n",
      "Not Found:  Sabrina https://www.themoviedb.org/t/p/w1280/jQh15y5YB7bWz1NtffNZmRw0s9D.jpg\n",
      "Not Found:  Tom and Huck https://www.themoviedb.org/t/p/w1280/sGO5Qa55p7wTu7FJcX4H4xIVKvS.jpg\n",
      "Not Found:  Sudden Death https://www.themoviedb.org/t/p/w1280/eoWvKD60lT95Ss1MYNgVExpo5iU.jpg\n",
      "Not Found:  GoldenEye https://www.themoviedb.org/t/p/w1280/5c0ovjT41KnYIHYuF4AWsTe3sKh.jpg\n",
      "Not Found:  The American President https://www.themoviedb.org/t/p/w1280/lymPNGLZgPHuqM29rKMGV46ANij.jpg\n",
      "Not Found:  Dracula: Dead and Loving It https://www.themoviedb.org/t/p/w1280/xve4cgfYItnOhtzLYoTwTVy5FGr.jpg\n"
     ]
    }
   ],
   "source": [
    "# ARCHIVED FUNCTION\n",
    "\"\"\"\n",
    "def f(downloaded_image_dir, title, poster_path):\n",
    "    if not os.path.exists(downloaded_image_dir):\n",
    "        os.makedirs(downloaded_image_dir)\n",
    "    \n",
    "    # corrupted url\n",
    "    imgUrl = \"https://www.themoviedb.org/t/p/w1280\" + str(poster_path)\n",
    "    filename = re.sub(r'\\W+', ' ', title).lower().strip().replace(\" \", \"-\") + '.jpg'\n",
    "\n",
    "    try:\n",
    "        r = requests.get(imgUrl, stream=True)\n",
    "        if r.status_code == 200:\n",
    "            with open(downloaded_image_dir + '/' + filename, 'wb') as f:\n",
    "                r.raw.decode_content = True\n",
    "                shutil.copyfileobj(r.raw, f)\n",
    "        else:\n",
    "            print(\"Not Found: \", title, imgUrl)\n",
    "        \n",
    "    except:\n",
    "        print(\"Error Dowloading: \", title, imgUrl)    \n",
    "\"\"\""
   ]
  },
  {
   "cell_type": "code",
   "execution_count": 45,
   "metadata": {},
   "outputs": [],
   "source": [
    "# @Source: https://johannesbader.ch/blog/tutorial-download-posters-with-the-movie-database-api-in-python/\"\n",
    "\n",
    "import os\n",
    "import re\n",
    "import requests\n",
    "\n",
    "CONFIG_PATTERN = 'http://api.themoviedb.org/3/configuration?api_key={key}'\n",
    "IMG_PATTERN = 'http://api.themoviedb.org/3/movie/{imdbid}/images?api_key={key}' \n",
    "KEY = '6f2ceb0e0b459afe90f6e854fcd410eb'\n",
    "            \n",
    "def _get_json(url):\n",
    "    r = requests.get(url)\n",
    "    return r.json()\n",
    "    \n",
    "def _download_images(titles, urls, path):\n",
    "    \"\"\"download all images in list 'urls' to 'path' \"\"\"\n",
    "    print(len(urls), len(titles))\n",
    "    zipped = list(zip(titles, urls))\n",
    "    for title, url in zipped:\n",
    "        r = requests.get(url)\n",
    "        filetype = r.headers['content-type'].split('/')[-1]\n",
    "        filename = re.sub(r'\\W+', ' ', title).lower().strip().replace(\" \", \"-\") + '.jpg'\n",
    "        filepath = os.path.join(path, filename)\n",
    "        \n",
    "        if r.status_code == 200:\n",
    "            with open(filepath,'wb') as w:\n",
    "                w.write(r.content)\n",
    "\n",
    "def get_poster_url(imdbid):\n",
    "    \"\"\" \n",
    "    given IMDB id, returns the corresponding url for\n",
    "    poster jpg\n",
    "    \n",
    "    Args: \n",
    "        imdbid (str): IMDB id\n",
    "    Return: \n",
    "        url (str): image url of poster image from 'themoviedb.org'\n",
    "                of the maximum available size. \n",
    "    \"\"\"\n",
    "    config = _get_json(CONFIG_PATTERN.format(key=KEY))\n",
    "    base_url = config['images']['base_url']\n",
    "    sizes = config['images']['poster_sizes']   # sorted in ascending order\n",
    "    \n",
    "    def size_str_to_int(x):\n",
    "        return float(\"inf\") if x == 'original' else int(x[1:])\n",
    "    \n",
    "    # retrieve image of max size\n",
    "    max_size = max(sizes, key=size_str_to_int)\n",
    "    \n",
    "    posters = _get_json(IMG_PATTERN.format(key=KEY,imdbid=imdbid))['posters']\n",
    "    \n",
    "    if len(posters) == 0:\n",
    "        return None\n",
    "    \n",
    "    rel_path = posters[0]['file_path']\n",
    "    url = \"{0}{1}{2}\".format(base_url, max_size, rel_path)\n",
    "    \n",
    "    return url"
   ]
  },
  {
   "cell_type": "code",
   "execution_count": 46,
   "metadata": {
    "scrolled": true
   },
   "outputs": [
    {
     "name": "stdout",
     "output_type": "stream",
     "text": [
      "22 22\n"
     ]
    }
   ],
   "source": [
    "# RUN THIS FUNCTION TO DOWNLOAD JPG IMAGES\n",
    "def tmdb_posters():\n",
    "    \"\"\" download posters with imdb_id from dataset \"\"\"\n",
    "    \n",
    "    if not os.path.exists('images_movies_genre'):\n",
    "        os.makedirs('images_movies_genre')\n",
    "    \n",
    "    titles = []\n",
    "    urls = []\n",
    "    \n",
    "    n = 0\n",
    "    for index, row in movies.iterrows():\n",
    "        title = str(row['title'])\n",
    "        url = get_poster_url(row['imdb_id'])\n",
    "        \n",
    "        # skip iteration if poster cannot be located\n",
    "        if not url:\n",
    "            continue\n",
    "            \n",
    "        titles.append(title)\n",
    "        urls.append(url)\n",
    "        n += 1\n",
    "        \n",
    "        # SET LIMIT FOR NUMBER OF IMAGES TO DOWNLOAD\n",
    "        if n > 20:\n",
    "            break\n",
    "\n",
    "    _download_images(titles, urls, 'images_movies_genre')\n",
    "\n",
    "tmdb_posters() "
   ]
  },
  {
   "cell_type": "code",
   "execution_count": null,
   "metadata": {},
   "outputs": [],
   "source": [
    "# TODO: jpg --> numpy array conversion\n",
    "\n",
    "X = []\n",
    "\n",
    "for i in tqdm(range(movies.shape[0])):\n",
    "    img = image.load_img(path, target_size=(350, 350, 3))\n",
    "    img = image.img_to_array(img)\n",
    "    img = img/255.0\n",
    "    X.append(img)\n",
    "    \n",
    "X = np.array(X)"
   ]
  },
  {
   "cell_type": "code",
   "execution_count": null,
   "metadata": {},
   "outputs": [],
   "source": [
    "# TODO: Padding\n",
    "# reference here: https://jinglescode.github.io/2019/11/17/predict-movie-earnings-with-posters/\n",
    "\n",
    "# Create a larger zero canvas\n",
    "canvas = np.zeros(512, 512, 3)\n",
    "\n",
    "# Overlay with image\n",
    "canvas[6:506, 6:506] = your_500_500_img"
   ]
  },
  {
   "cell_type": "code",
   "execution_count": 3,
   "metadata": {},
   "outputs": [],
   "source": []
  },
  {
   "cell_type": "code",
   "execution_count": 3,
   "metadata": {},
   "outputs": [],
   "source": [
    "import ast\n",
    "#reference-https://www.geeksforgeeks.org/adding-new-column-to-existing-dataframe-in-pandas/\n",
    "def genre_list(str):\n",
    "    arr=ast.literal_eval(str)\n",
    "    genreList=[dict['name'] for dict in arr]\n",
    "    return genreList\n",
    "    "
   ]
  },
  {
   "cell_type": "code",
   "execution_count": 4,
   "metadata": {},
   "outputs": [
    {
     "data": {
      "text/plain": [
       "False"
      ]
     },
     "execution_count": 4,
     "metadata": {},
     "output_type": "execute_result"
    }
   ],
   "source": [
    "movies['genres'].isnull().values.any()"
   ]
  },
  {
   "cell_type": "code",
   "execution_count": 5,
   "metadata": {},
   "outputs": [],
   "source": [
    "genre_list_collection=[]\n",
    "for i in movies['genres']:\n",
    "    genre_list_collection+=[genre_list(i)]"
   ]
  },
  {
   "cell_type": "code",
   "execution_count": 6,
   "metadata": {},
   "outputs": [
    {
     "name": "stdout",
     "output_type": "stream",
     "text": [
      "Features:  Index(['adult', 'belongs_to_collection', 'budget', 'genres', 'homepage',\n",
      "       'genre_list', 'id', 'imdb_id', 'original_language', 'original_title',\n",
      "       'overview', 'popularity', 'poster_path', 'production_companies',\n",
      "       'production_countries', 'release_date', 'revenue', 'runtime',\n",
      "       'spoken_languages', 'status', 'tagline', 'title', 'video',\n",
      "       'vote_average', 'vote_count'],\n",
      "      dtype='object')\n"
     ]
    },
    {
     "data": {
      "text/plain": [
       "0         [Animation, Comedy, Family]\n",
       "1        [Adventure, Fantasy, Family]\n",
       "2                   [Romance, Comedy]\n",
       "3            [Comedy, Drama, Romance]\n",
       "4                            [Comedy]\n",
       "                     ...             \n",
       "45461                 [Drama, Family]\n",
       "45462                         [Drama]\n",
       "45463       [Action, Drama, Thriller]\n",
       "45464                              []\n",
       "45465                              []\n",
       "Name: genre_list, Length: 45466, dtype: object"
      ]
     },
     "execution_count": 6,
     "metadata": {},
     "output_type": "execute_result"
    }
   ],
   "source": [
    "#adding a column called genre_list which contains all the genres of the movies in a list\n",
    "movies.insert(5,\"genre_list\", genre_list_collection, True)\n",
    "print(\"Features: \", movies.columns)\n",
    "movies['genre_list']"
   ]
  },
  {
   "cell_type": "code",
   "execution_count": null,
   "metadata": {},
   "outputs": [],
   "source": [
    "#TOD0: Remove unwanted genres\n",
    "invalid_genres = ['Aniplex', 'BROSTA TV', 'Carousel Productions', 'GoHands', 'Mardock Scramble Production Committee', 'Odyssey Media', 'Pulser Productions', 'Rogue State', 'Sentai Filmworks', 'Telescene Film Group Productions', 'The Cartel', 'Vision View Entertainment', 'TV Movie', 'Foreign']\n"
   ]
  },
  {
   "cell_type": "code",
   "execution_count": 7,
   "metadata": {},
   "outputs": [
    {
     "data": {
      "text/plain": [
       "array([[0, 0, 1, ..., 0, 0, 0],\n",
       "       [0, 1, 0, ..., 0, 0, 0],\n",
       "       [0, 0, 0, ..., 0, 0, 0],\n",
       "       ...,\n",
       "       [1, 0, 0, ..., 0, 0, 0],\n",
       "       [0, 0, 0, ..., 0, 0, 0],\n",
       "       [0, 0, 0, ..., 0, 0, 0]])"
      ]
     },
     "execution_count": 7,
     "metadata": {},
     "output_type": "execute_result"
    }
   ],
   "source": [
    "#One hot encoding the genres\n",
    "from sklearn.preprocessing import MultiLabelBinarizer\n",
    "mlb = MultiLabelBinarizer()\n",
    "mlb.fit_transform(movies['genre_list'])\n",
    "#TODO Add the one hot encoded genres to the movies dataframe"
   ]
  },
  {
   "cell_type": "code",
   "execution_count": 8,
   "metadata": {},
   "outputs": [
    {
     "data": {
      "text/plain": [
       "array(['Action', 'Adventure', 'Animation', 'Aniplex', 'BROSTA TV',\n",
       "       'Carousel Productions', 'Comedy', 'Crime', 'Documentary', 'Drama',\n",
       "       'Family', 'Fantasy', 'Foreign', 'GoHands', 'History', 'Horror',\n",
       "       'Mardock Scramble Production Committee', 'Music', 'Mystery',\n",
       "       'Odyssey Media', 'Pulser Productions', 'Rogue State', 'Romance',\n",
       "       'Science Fiction', 'Sentai Filmworks', 'TV Movie',\n",
       "       'Telescene Film Group Productions', 'The Cartel', 'Thriller',\n",
       "       'Vision View Entertainment', 'War', 'Western'], dtype=object)"
      ]
     },
     "execution_count": 8,
     "metadata": {},
     "output_type": "execute_result"
    }
   ],
   "source": [
    "mlb.classes_"
   ]
  },
  {
   "cell_type": "code",
   "execution_count": null,
   "metadata": {},
   "outputs": [],
   "source": []
  },
  {
   "cell_type": "code",
   "execution_count": null,
   "metadata": {},
   "outputs": [],
   "source": []
  }
 ],
 "metadata": {
  "kernelspec": {
   "display_name": "nmep",
   "language": "python",
   "name": "nmep"
  },
  "language_info": {
   "codemirror_mode": {
    "name": "ipython",
    "version": 3
   },
   "file_extension": ".py",
   "mimetype": "text/x-python",
   "name": "python",
   "nbconvert_exporter": "python",
   "pygments_lexer": "ipython3",
   "version": "3.6.13"
  }
 },
 "nbformat": 4,
 "nbformat_minor": 4
}
