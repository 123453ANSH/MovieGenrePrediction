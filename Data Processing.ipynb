{
 "cells": [
  {
   "cell_type": "code",
   "execution_count": 1,
   "metadata": {},
   "outputs": [
    {
     "name": "stderr",
     "output_type": "stream",
     "text": [
      "Using TensorFlow backend.\n"
     ]
    }
   ],
   "source": [
    "import numpy as np\n",
    "import pandas as pd\n",
    "import sklearn\n",
    "import nltk\n",
    "import re\n",
    "import json\n",
    "import torch\n",
    "import pickle\n",
    "import tensorflow as tf\n",
    "\n",
    "import keras\n",
    "from keras.preprocessing import image\n",
    "from sklearn.model_selection import train_test_split\n",
    "\n",
    "from tqdm import tqdm"
   ]
  },
  {
   "cell_type": "code",
   "execution_count": 2,
   "metadata": {},
   "outputs": [
    {
     "name": "stdout",
     "output_type": "stream",
     "text": [
      "Shape:  (45466, 24)\n",
      "Features:  Index(['adult', 'belongs_to_collection', 'budget', 'genres', 'homepage', 'id',\n",
      "       'imdb_id', 'original_language', 'original_title', 'overview',\n",
      "       'popularity', 'poster_path', 'production_companies',\n",
      "       'production_countries', 'release_date', 'revenue', 'runtime',\n",
      "       'spoken_languages', 'status', 'tagline', 'title', 'video',\n",
      "       'vote_average', 'vote_count'],\n",
      "      dtype='object')\n"
     ]
    },
    {
     "name": "stderr",
     "output_type": "stream",
     "text": [
      "/Users/anshverma/opt/anaconda3/envs/python37/lib/python3.7/site-packages/IPython/core/interactiveshell.py:3166: DtypeWarning: Columns (10) have mixed types.Specify dtype option on import or set low_memory=False.\n",
      "  interactivity=interactivity, compiler=compiler, result=result)\n"
     ]
    }
   ],
   "source": [
    "movies = pd.read_csv('archive/movies_metadata.csv')\n",
    "print(\"Shape: \", movies.shape)\n",
    "print(\"Features: \", movies.columns)"
   ]
  },
  {
   "cell_type": "code",
   "execution_count": 3,
   "metadata": {},
   "outputs": [
    {
     "data": {
      "text/plain": [
       "0                          Toy Story\n",
       "1                            Jumanji\n",
       "2                   Grumpier Old Men\n",
       "3                  Waiting to Exhale\n",
       "4        Father of the Bride Part II\n",
       "                    ...             \n",
       "45461                        رگ خواب\n",
       "45462            Siglo ng Pagluluwal\n",
       "45463                       Betrayal\n",
       "45464            Satana likuyushchiy\n",
       "45465                       Queerama\n",
       "Name: original_title, Length: 45466, dtype: object"
      ]
     },
     "execution_count": 3,
     "metadata": {},
     "output_type": "execute_result"
    }
   ],
   "source": [
    "movies['original_title']"
   ]
  },
  {
   "cell_type": "code",
   "execution_count": 4,
   "metadata": {},
   "outputs": [
    {
     "name": "stdout",
     "output_type": "stream",
     "text": [
      "Shape:  (45466, 24)\n",
      "Features:  Index(['adult', 'belongs_to_collection', 'budget', 'genres', 'homepage', 'id',\n",
      "       'imdb_id', 'original_language', 'original_title', 'overview',\n",
      "       'popularity', 'poster_path', 'production_companies',\n",
      "       'production_countries', 'release_date', 'revenue', 'runtime',\n",
      "       'spoken_languages', 'status', 'tagline', 'title', 'video',\n",
      "       'vote_average', 'vote_count'],\n",
      "      dtype='object')\n"
     ]
    }
   ],
   "source": [
    "print(\"Shape: \", movies.shape)\n",
    "print(\"Features: \", movies.columns)"
   ]
  },
  {
   "cell_type": "code",
   "execution_count": 5,
   "metadata": {},
   "outputs": [
    {
     "data": {
      "text/plain": [
       "\"When siblings Judy and Peter discover an enchanted board game that opens the door to a magical world, they unwittingly invite Alan -- an adult who's been trapped inside the game for 26 years -- into their living room. Alan's only hope for freedom is to finish the game, which proves risky as all three find themselves running from giant rhinoceroses, evil monkeys and other terrifying creatures.\""
      ]
     },
     "execution_count": 5,
     "metadata": {},
     "output_type": "execute_result"
    }
   ],
   "source": [
    "movies['overview'][1]"
   ]
  },
  {
   "cell_type": "code",
   "execution_count": 6,
   "metadata": {},
   "outputs": [
    {
     "data": {
      "text/plain": [
       "0    tt0114709\n",
       "1    tt0113497\n",
       "2    tt0113228\n",
       "3    tt0114885\n",
       "4    tt0113041\n",
       "Name: imdb_id, dtype: object"
      ]
     },
     "execution_count": 6,
     "metadata": {},
     "output_type": "execute_result"
    }
   ],
   "source": [
    "movies.head()['imdb_id']"
   ]
  },
  {
   "cell_type": "code",
   "execution_count": 7,
   "metadata": {},
   "outputs": [
    {
     "data": {
      "text/plain": [
       "0    [{'id': 16, 'name': 'Animation'}, {'id': 35, '...\n",
       "1    [{'id': 12, 'name': 'Adventure'}, {'id': 14, '...\n",
       "2    [{'id': 10749, 'name': 'Romance'}, {'id': 35, ...\n",
       "3    [{'id': 35, 'name': 'Comedy'}, {'id': 18, 'nam...\n",
       "4                       [{'id': 35, 'name': 'Comedy'}]\n",
       "Name: genres, dtype: object"
      ]
     },
     "execution_count": 7,
     "metadata": {},
     "output_type": "execute_result"
    }
   ],
   "source": [
    "movies.head()['genres']"
   ]
  },
  {
   "cell_type": "code",
   "execution_count": 8,
   "metadata": {},
   "outputs": [
    {
     "data": {
      "text/plain": [
       "0    /rhIRbceoE9lR4veEXuwCC2wARtG.jpg\n",
       "1    /vzmL6fP7aPKNKPRTFnZmiUfciyV.jpg\n",
       "2    /6ksm1sjKMFLbO7UY2i6G1ju9SML.jpg\n",
       "3    /16XOMpEaLWkrcPqSQqhTmeJuqQl.jpg\n",
       "4    /e64sOI48hQXyru7naBFyssKFxVd.jpg\n",
       "Name: poster_path, dtype: object"
      ]
     },
     "execution_count": 8,
     "metadata": {},
     "output_type": "execute_result"
    }
   ],
   "source": [
    "movies.head()['poster_path']"
   ]
  },
  {
   "cell_type": "code",
   "execution_count": 9,
   "metadata": {},
   "outputs": [
    {
     "data": {
      "text/plain": [
       "\"[{'id': 16, 'name': 'Animation'}, {'id': 35, 'name': 'Comedy'}, {'id': 10751, 'name': 'Family'}]\""
      ]
     },
     "execution_count": 9,
     "metadata": {},
     "output_type": "execute_result"
    }
   ],
   "source": [
    "movies.head()['genres'][0]"
   ]
  },
  {
   "cell_type": "code",
   "execution_count": 10,
   "metadata": {},
   "outputs": [
    {
     "data": {
      "text/plain": [
       "\"[{'id': 12, 'name': 'Adventure'}, {'id': 14, 'name': 'Fantasy'}, {'id': 10751, 'name': 'Family'}]\""
      ]
     },
     "execution_count": 10,
     "metadata": {},
     "output_type": "execute_result"
    }
   ],
   "source": [
    "movies.head()['genres'][1]"
   ]
  },
  {
   "cell_type": "code",
   "execution_count": 11,
   "metadata": {},
   "outputs": [
    {
     "data": {
      "text/plain": [
       "array(['adult', 'belongs_to_collection', 'budget', 'genres', 'homepage',\n",
       "       'id', 'imdb_id', 'original_language', 'original_title', 'overview',\n",
       "       'popularity', 'poster_path', 'production_companies',\n",
       "       'production_countries', 'release_date', 'revenue', 'runtime',\n",
       "       'spoken_languages', 'status', 'tagline', 'title', 'video',\n",
       "       'vote_average', 'vote_count'], dtype=object)"
      ]
     },
     "execution_count": 11,
     "metadata": {},
     "output_type": "execute_result"
    }
   ],
   "source": [
    "movies.columns.values"
   ]
  },
  {
   "cell_type": "code",
   "execution_count": null,
   "metadata": {},
   "outputs": [],
   "source": [
    "movies['popularity']"
   ]
  },
  {
   "cell_type": "code",
   "execution_count": 12,
   "metadata": {},
   "outputs": [],
   "source": [
    "movies.dropna(subset = ['poster_path', 'genres'], inplace=True)"
   ]
  },
  {
   "cell_type": "code",
   "execution_count": 13,
   "metadata": {
    "scrolled": true
   },
   "outputs": [
    {
     "name": "stdout",
     "output_type": "stream",
     "text": [
      "(44166, 24)\n",
      "       adult                              belongs_to_collection    budget  \\\n",
      "0      False  {'id': 10194, 'name': 'Toy Story Collection', ...  30000000   \n",
      "1      False                                                NaN  65000000   \n",
      "2      False  {'id': 119050, 'name': 'Grumpy Old Men Collect...         0   \n",
      "3      False                                                NaN  16000000   \n",
      "4      False  {'id': 96871, 'name': 'Father of the Bride Col...         0   \n",
      "...      ...                                                ...       ...   \n",
      "45461  False                                                NaN         0   \n",
      "45462  False                                                NaN         0   \n",
      "45463  False                                                NaN         0   \n",
      "45464  False                                                NaN         0   \n",
      "45465  False                                                NaN         0   \n",
      "\n",
      "                                                  genres  \\\n",
      "0      [{'id': 16, 'name': 'Animation'}, {'id': 35, '...   \n",
      "1      [{'id': 12, 'name': 'Adventure'}, {'id': 14, '...   \n",
      "2      [{'id': 10749, 'name': 'Romance'}, {'id': 35, ...   \n",
      "3      [{'id': 35, 'name': 'Comedy'}, {'id': 18, 'nam...   \n",
      "4                         [{'id': 35, 'name': 'Comedy'}]   \n",
      "...                                                  ...   \n",
      "45461  [{'id': 18, 'name': 'Drama'}, {'id': 10751, 'n...   \n",
      "45462                      [{'id': 18, 'name': 'Drama'}]   \n",
      "45463  [{'id': 28, 'name': 'Action'}, {'id': 18, 'nam...   \n",
      "45464                                                 []   \n",
      "45465                                                 []   \n",
      "\n",
      "                                   homepage      id    imdb_id  \\\n",
      "0      http://toystory.disney.com/toy-story     862  tt0114709   \n",
      "1                                       NaN    8844  tt0113497   \n",
      "2                                       NaN   15602  tt0113228   \n",
      "3                                       NaN   31357  tt0114885   \n",
      "4                                       NaN   11862  tt0113041   \n",
      "...                                     ...     ...        ...   \n",
      "45461  http://www.imdb.com/title/tt6209470/  439050  tt6209470   \n",
      "45462                                   NaN  111109  tt2028550   \n",
      "45463                                   NaN   67758  tt0303758   \n",
      "45464                                   NaN  227506  tt0008536   \n",
      "45465                                   NaN  461257  tt6980792   \n",
      "\n",
      "      original_language               original_title  \\\n",
      "0                    en                    Toy Story   \n",
      "1                    en                      Jumanji   \n",
      "2                    en             Grumpier Old Men   \n",
      "3                    en            Waiting to Exhale   \n",
      "4                    en  Father of the Bride Part II   \n",
      "...                 ...                          ...   \n",
      "45461                fa                      رگ خواب   \n",
      "45462                tl          Siglo ng Pagluluwal   \n",
      "45463                en                     Betrayal   \n",
      "45464                en          Satana likuyushchiy   \n",
      "45465                en                     Queerama   \n",
      "\n",
      "                                                overview  ... release_date  \\\n",
      "0      Led by Woody, Andy's toys live happily in his ...  ...   1995-10-30   \n",
      "1      When siblings Judy and Peter discover an encha...  ...   1995-12-15   \n",
      "2      A family wedding reignites the ancient feud be...  ...   1995-12-22   \n",
      "3      Cheated on, mistreated and stepped on, the wom...  ...   1995-12-22   \n",
      "4      Just when George Banks has recovered from his ...  ...   1995-02-10   \n",
      "...                                                  ...  ...          ...   \n",
      "45461        Rising and falling between a man and woman.  ...          NaN   \n",
      "45462  An artist struggles to finish his work while a...  ...   2011-11-17   \n",
      "45463  When one of her hits goes wrong, a professiona...  ...   2003-08-01   \n",
      "45464  In a small town live two brothers, one a minis...  ...   1917-10-21   \n",
      "45465  50 years after decriminalisation of homosexual...  ...   2017-06-09   \n",
      "\n",
      "           revenue runtime                                   spoken_languages  \\\n",
      "0      373554033.0    81.0           [{'iso_639_1': 'en', 'name': 'English'}]   \n",
      "1      262797249.0   104.0  [{'iso_639_1': 'en', 'name': 'English'}, {'iso...   \n",
      "2              0.0   101.0           [{'iso_639_1': 'en', 'name': 'English'}]   \n",
      "3       81452156.0   127.0           [{'iso_639_1': 'en', 'name': 'English'}]   \n",
      "4       76578911.0   106.0           [{'iso_639_1': 'en', 'name': 'English'}]   \n",
      "...            ...     ...                                                ...   \n",
      "45461          0.0    90.0             [{'iso_639_1': 'fa', 'name': 'فارسی'}]   \n",
      "45462          0.0   360.0                  [{'iso_639_1': 'tl', 'name': ''}]   \n",
      "45463          0.0    90.0           [{'iso_639_1': 'en', 'name': 'English'}]   \n",
      "45464          0.0    87.0                                                 []   \n",
      "45465          0.0    75.0           [{'iso_639_1': 'en', 'name': 'English'}]   \n",
      "\n",
      "         status                                            tagline  \\\n",
      "0      Released                                                NaN   \n",
      "1      Released          Roll the dice and unleash the excitement!   \n",
      "2      Released  Still Yelling. Still Fighting. Still Ready for...   \n",
      "3      Released  Friends are the people who let you be yourself...   \n",
      "4      Released  Just When His World Is Back To Normal... He's ...   \n",
      "...         ...                                                ...   \n",
      "45461  Released         Rising and falling between a man and woman   \n",
      "45462  Released                                                NaN   \n",
      "45463  Released                             A deadly game of wits.   \n",
      "45464  Released                                                NaN   \n",
      "45465  Released                                                NaN   \n",
      "\n",
      "                             title  video vote_average vote_count  \n",
      "0                        Toy Story  False          7.7     5415.0  \n",
      "1                          Jumanji  False          6.9     2413.0  \n",
      "2                 Grumpier Old Men  False          6.5       92.0  \n",
      "3                Waiting to Exhale  False          6.1       34.0  \n",
      "4      Father of the Bride Part II  False          5.7      173.0  \n",
      "...                            ...    ...          ...        ...  \n",
      "45461                       Subdue  False          4.0        1.0  \n",
      "45462          Century of Birthing  False          9.0        3.0  \n",
      "45463                     Betrayal  False          3.8        6.0  \n",
      "45464             Satan Triumphant  False          0.0        0.0  \n",
      "45465                     Queerama  False          0.0        0.0  \n",
      "\n",
      "[44166 rows x 24 columns]\n"
     ]
    }
   ],
   "source": [
    "movies.dropna(subset = [\"overview\"], inplace=True)\n",
    "print(movies.shape)\n",
    "print(movies)\n",
    "\n",
    "movies.fillna(0, inplace=True)\n",
    "\n",
    "movies = movies[0: 4961]"
   ]
  },
  {
   "cell_type": "code",
   "execution_count": 14,
   "metadata": {},
   "outputs": [
    {
     "data": {
      "text/plain": [
       "0"
      ]
     },
     "execution_count": 14,
     "metadata": {},
     "output_type": "execute_result"
    }
   ],
   "source": [
    "movies['poster_path'].isnull().sum()"
   ]
  },
  {
   "cell_type": "code",
   "execution_count": 23,
   "metadata": {},
   "outputs": [],
   "source": [
    "# @Source: https://johannesbader.ch/blog/tutorial-download-posters-with-the-movie-database-api-in-python/\"\n",
    "import os\n",
    "import re\n",
    "import requests\n",
    "\n",
    "CONFIG_PATTERN = 'http://api.themoviedb.org/3/configuration?api_key={key}'\n",
    "IMG_PATTERN = 'http://api.themoviedb.org/3/movie/{imdbid}/images?api_key={key}' \n",
    "KEY = '6f2ceb0e0b459afe90f6e854fcd410eb'\n",
    "            \n",
    "def _get_json(url):\n",
    "    r = requests.get(url)\n",
    "    return r.json()\n",
    "    \n",
    "def _download_images(titles, urls, path):\n",
    "    \"\"\"download all images in list 'urls' to 'path' \"\"\"\n",
    "    filePathList = []\n",
    "    print(len(urls), len(titles))\n",
    "    zipped = list(zip(titles, urls))\n",
    "    i = 0\n",
    "    for title, url in zipped: \n",
    "        r = requests.get(url)\n",
    "        filetype = r.headers['content-type'].split('/')[-1]\n",
    "        filename = re.sub(r'\\W+', ' ', title).lower().strip().replace(\" \", \"-\") + '.jpg'\n",
    "        print(i)\n",
    "        filepath = os.path.join(path, filename)\n",
    "        filePathList.append(filepath)\n",
    "        #commented this out so that won't redownload data every single time\n",
    "        #if r.status_code == 200:\n",
    "        #    with open(filepath,'wb') as w:\n",
    "        #        w.write(r.content)\n",
    "        i+=1\n",
    "    \n",
    "    return path, filePathList \n",
    "\n",
    "def get_poster_url(imdbid):\n",
    "    \"\"\" \n",
    "    given IMDB id, returns the corresponding url for\n",
    "    poster jpg\n",
    "    \n",
    "    Args: \n",
    "        imdbid (str): IMDB id\n",
    "    Return: \n",
    "        url (str): image url of poster image from 'themoviedb.org'\n",
    "                of the maximum available size. \n",
    "    \"\"\"\n",
    "    config = _get_json(CONFIG_PATTERN.format(key=KEY))\n",
    "    base_url = config['images']['base_url']\n",
    "    sizes = config['images']['poster_sizes']   # sorted in ascending order\n",
    "    \n",
    "    def size_str_to_int(x):\n",
    "        return float(\"inf\") if x == 'original' else int(x[1:])\n",
    "    \n",
    "    # retrieve image of max size\n",
    "    max_size = max(sizes, key=size_str_to_int)\n",
    "    \n",
    "    try: \n",
    "        posters = _get_json(IMG_PATTERN.format(key=KEY,imdbid=imdbid))['posters']\n",
    "    except: \n",
    "        print(imdbid)\n",
    "    \n",
    "    if len(posters) == 0:\n",
    "        return None\n",
    "    \n",
    "    rel_path = posters[0]['file_path']\n",
    "    url = \"{0}{1}{2}\".format(base_url, max_size, rel_path)\n",
    "    \n",
    "    return url"
   ]
  },
  {
   "cell_type": "code",
   "execution_count": null,
   "metadata": {
    "scrolled": false
   },
   "outputs": [],
   "source": [
    "# RUN THIS FUNCTION TO DOWNLOAD JPG IMAGES\n",
    "def tmdb_posters():\n",
    "    \"\"\" download posters with imdb_id from dataset \"\"\"\n",
    "    \n",
    "    if not os.path.exists('images_movies_genre'):\n",
    "        os.makedirs('images_movies_genre')\n",
    "    filePathList = []\n",
    "    titles = []\n",
    "    urls = []\n",
    "    checkIter = []\n",
    "    n = 0\n",
    "    for index, row in movies.iterrows():\n",
    "        title = str(row['title'])\n",
    "        url = get_poster_url(row['imdb_id'])\n",
    "        \n",
    "        # skip iteration if poster cannot be located\n",
    "        if not url:\n",
    "            checkIter.append(0)\n",
    "            continue\n",
    "            \n",
    "        checkIter.append(1)\n",
    "        titles.append(title)\n",
    "        urls.append(url)\n",
    "        n += 1\n",
    "        #print(n)\n",
    "        if n == 1000:\n",
    "            break\n",
    "            \n",
    "        # SET LIMIT FOR NUMBER OF IMAGES TO DOWNLOAD\n",
    "\n",
    "    path, filePathList = _download_images(titles, urls, 'images_movies_genre')\n",
    "    retList = []\n",
    "    counter = 0\n",
    "    for i in checkIter: \n",
    "        if i == 0: \n",
    "            retList.append('NaN')\n",
    "        elif i == 1: \n",
    "            retList.append(filePathList[counter])\n",
    "            counter+=1\n",
    "    return path, retList\n",
    "\n",
    "path, filePathList = tmdb_posters() "
   ]
  },
  {
   "cell_type": "code",
   "execution_count": null,
   "metadata": {},
   "outputs": [],
   "source": [
    "filename = \"/Users/anshverma/Documents/GitHub/MovieGenrePrediction/ImageData\"\n",
    "filenameTwo = \"/Users/anshverma/Documents/GitHub/MovieGenrePrediction/Genres\"\n",
    "fileNameThree =  \"/Users/anshverma/Documents/GitHub/MovieGenrePrediction/xTrain\"\n",
    "fileNameFour =  \"/Users/anshverma/Documents/GitHub/MovieGenrePrediction/xTest\"\n",
    "fileNameFive =  \"/Users/anshverma/Documents/GitHub/MovieGenrePrediction/yTrain\"\n",
    "fileNameSix =  \"/Users/anshverma/Documents/GitHub/MovieGenrePrediction/yTest\"\n",
    "\n",
    "def saveImages(imageList, genres, pathOne, pathTwo): \n",
    "    filehandler = open(pathOne, 'wb')\n",
    "    np.save(filehandler, imageList)\n",
    "    filehandlerTwo = open(pathTwo, 'wb')\n",
    "    np.save(filehandlerTwo, genres)\n",
    "    #pickle.dump(imageList, filehandler)\n",
    "        \n",
    "def loadImages(): \n",
    "    filehandler = open(filename, 'rb') \n",
    "    files = np.load(filehandler, allow_pickle=True) #pickle.load(filehandler)\n",
    "    return files\n",
    "\n",
    "def loadGenres(): \n",
    "    filehandlerTwo = open(filenameTwo, 'rb')\n",
    "    genres = np.load(filehandlerTwo, allow_pickle=True)\n",
    "    return genres\n",
    "\n",
    "def load(filePath): \n",
    "    loader = csv\n",
    "\n",
    "def tempSave(genres): \n",
    "    genres.to_csv(path_or_buf = filenameTwo)\n",
    "    \n",
    "def saveTesting(csv, path): \n",
    "    csv.to_csv(path_or_buf = path)\n",
    "    \n",
    "def fromCsv(path): \n",
    "    return pd.read_csv(path)"
   ]
  },
  {
   "cell_type": "code",
   "execution_count": 3,
   "metadata": {},
   "outputs": [
    {
     "ename": "NameError",
     "evalue": "name 'tqdm' is not defined",
     "output_type": "error",
     "traceback": [
      "\u001b[0;31m---------------------------------------------------------------------------\u001b[0m",
      "\u001b[0;31mNameError\u001b[0m                                 Traceback (most recent call last)",
      "\u001b[0;32m<ipython-input-3-b5935ffb328a>\u001b[0m in \u001b[0;36m<module>\u001b[0;34m\u001b[0m\n\u001b[1;32m      2\u001b[0m \u001b[0mX\u001b[0m \u001b[0;34m=\u001b[0m \u001b[0;34m[\u001b[0m\u001b[0;34m]\u001b[0m\u001b[0;34m\u001b[0m\u001b[0;34m\u001b[0m\u001b[0m\n\u001b[1;32m      3\u001b[0m \u001b[0;34m\u001b[0m\u001b[0m\n\u001b[0;32m----> 4\u001b[0;31m \u001b[0;32mfor\u001b[0m \u001b[0mpath\u001b[0m \u001b[0;32min\u001b[0m \u001b[0mtqdm\u001b[0m\u001b[0;34m(\u001b[0m\u001b[0mfilePathList\u001b[0m\u001b[0;34m)\u001b[0m\u001b[0;34m:\u001b[0m\u001b[0;34m\u001b[0m\u001b[0;34m\u001b[0m\u001b[0m\n\u001b[0m\u001b[1;32m      5\u001b[0m     \u001b[0;32mtry\u001b[0m\u001b[0;34m:\u001b[0m\u001b[0;34m\u001b[0m\u001b[0;34m\u001b[0m\u001b[0m\n\u001b[1;32m      6\u001b[0m         \u001b[0mimg\u001b[0m \u001b[0;34m=\u001b[0m \u001b[0mimage\u001b[0m\u001b[0;34m.\u001b[0m\u001b[0mload_img\u001b[0m\u001b[0;34m(\u001b[0m\u001b[0mpath\u001b[0m\u001b[0;34m,\u001b[0m \u001b[0mtarget_size\u001b[0m\u001b[0;34m=\u001b[0m\u001b[0;34m(\u001b[0m\u001b[0;36m224\u001b[0m\u001b[0;34m,\u001b[0m \u001b[0;36m224\u001b[0m\u001b[0;34m,\u001b[0m \u001b[0;36m3\u001b[0m\u001b[0;34m)\u001b[0m\u001b[0;34m)\u001b[0m\u001b[0;34m\u001b[0m\u001b[0;34m\u001b[0m\u001b[0m\n",
      "\u001b[0;31mNameError\u001b[0m: name 'tqdm' is not defined"
     ]
    }
   ],
   "source": [
    "# Converting images to array\n",
    "X = []\n",
    "\n",
    "for path in tqdm(filePathList):\n",
    "    try: \n",
    "        img = image.load_img(path, target_size=(224, 224, 3))\n",
    "        img = image.img_to_array(img)\n",
    "        img = img/255.0\n",
    "        X.append(img)\n",
    "    except: \n",
    "        X.append('NaN')\n",
    "        continue\n",
    "    \n",
    "X = np.array(X)"
   ]
  },
  {
   "cell_type": "code",
   "execution_count": 19,
   "metadata": {},
   "outputs": [
    {
     "ename": "NameError",
     "evalue": "name 'X' is not defined",
     "output_type": "error",
     "traceback": [
      "\u001b[0;31m---------------------------------------------------------------------------\u001b[0m",
      "\u001b[0;31mNameError\u001b[0m                                 Traceback (most recent call last)",
      "\u001b[0;32m<ipython-input-19-55e5e7a3f079>\u001b[0m in \u001b[0;36m<module>\u001b[0;34m\u001b[0m\n\u001b[0;32m----> 1\u001b[0;31m \u001b[0mlen\u001b[0m\u001b[0;34m(\u001b[0m\u001b[0mX\u001b[0m\u001b[0;34m)\u001b[0m\u001b[0;34m\u001b[0m\u001b[0;34m\u001b[0m\u001b[0m\n\u001b[0m",
      "\u001b[0;31mNameError\u001b[0m: name 'X' is not defined"
     ]
    }
   ],
   "source": [
    "len(X)"
   ]
  },
  {
   "cell_type": "code",
   "execution_count": 20,
   "metadata": {},
   "outputs": [
    {
     "ename": "NameError",
     "evalue": "name 'X' is not defined",
     "output_type": "error",
     "traceback": [
      "\u001b[0;31m---------------------------------------------------------------------------\u001b[0m",
      "\u001b[0;31mNameError\u001b[0m                                 Traceback (most recent call last)",
      "\u001b[0;32m<ipython-input-20-c3caa92df282>\u001b[0m in \u001b[0;36m<module>\u001b[0;34m\u001b[0m\n\u001b[0;32m----> 1\u001b[0;31m \u001b[0mmovies\u001b[0m\u001b[0;34m.\u001b[0m\u001b[0minsert\u001b[0m\u001b[0;34m(\u001b[0m\u001b[0mlen\u001b[0m\u001b[0;34m(\u001b[0m\u001b[0mmovies\u001b[0m\u001b[0;34m.\u001b[0m\u001b[0mcolumns\u001b[0m\u001b[0;34m)\u001b[0m\u001b[0;34m,\u001b[0m \u001b[0;34m\"imageArrays\"\u001b[0m\u001b[0;34m,\u001b[0m \u001b[0mX\u001b[0m\u001b[0;34m,\u001b[0m \u001b[0;32mTrue\u001b[0m\u001b[0;34m)\u001b[0m\u001b[0;34m\u001b[0m\u001b[0;34m\u001b[0m\u001b[0m\n\u001b[0m",
      "\u001b[0;31mNameError\u001b[0m: name 'X' is not defined"
     ]
    }
   ],
   "source": [
    "movies.insert(len(movies.columns), \"imageArrays\", X, True)"
   ]
  },
  {
   "cell_type": "code",
   "execution_count": 14,
   "metadata": {},
   "outputs": [],
   "source": [
    "#Padding\n",
    "#reference: https://ai-pool.com/d/padding-images-with-numpy\n",
    "def pad(img, h, w):\n",
    "    top_pad = np.floor((h - img.shape[0]) / 2).astype(np.uint16)\n",
    "    bottom_pad = np.ceil((h - img.shape[0]) / 2).astype(np.uint16)\n",
    "    right_pad = np.ceil((w - img.shape[1]) / 2).astype(np.uint16)\n",
    "    left_pad = np.floor((w - img.shape[1]) / 2).astype(np.uint16)\n",
    "    return np.copy(np.pad(img, ((top_pad, bottom_pad), (left_pad, right_pad), (0, 0)), mode='constant', constant_values=0))"
   ]
  },
  {
   "cell_type": "code",
   "execution_count": 15,
   "metadata": {},
   "outputs": [
    {
     "ename": "NameError",
     "evalue": "name 'X' is not defined",
     "output_type": "error",
     "traceback": [
      "\u001b[0;31m---------------------------------------------------------------------------\u001b[0m",
      "\u001b[0;31mNameError\u001b[0m                                 Traceback (most recent call last)",
      "\u001b[0;32m<ipython-input-15-cc77253a7613>\u001b[0m in \u001b[0;36m<module>\u001b[0;34m\u001b[0m\n\u001b[1;32m      1\u001b[0m \u001b[0;31m#checking if padding works\u001b[0m\u001b[0;34m\u001b[0m\u001b[0;34m\u001b[0m\u001b[0;34m\u001b[0m\u001b[0m\n\u001b[1;32m      2\u001b[0m \u001b[0mimg\u001b[0m \u001b[0;34m=\u001b[0m \u001b[0mimage\u001b[0m\u001b[0;34m.\u001b[0m\u001b[0mload_img\u001b[0m\u001b[0;34m(\u001b[0m\u001b[0;34m'images_movies_genre/toy-story.jpg'\u001b[0m\u001b[0;34m,\u001b[0m \u001b[0mtarget_size\u001b[0m\u001b[0;34m=\u001b[0m\u001b[0;34m(\u001b[0m\u001b[0;36m224\u001b[0m\u001b[0;34m,\u001b[0m \u001b[0;36m224\u001b[0m\u001b[0;34m,\u001b[0m \u001b[0;36m3\u001b[0m\u001b[0;34m)\u001b[0m\u001b[0;34m)\u001b[0m\u001b[0;34m\u001b[0m\u001b[0;34m\u001b[0m\u001b[0m\n\u001b[0;32m----> 3\u001b[0;31m \u001b[0mnew_img_array\u001b[0m\u001b[0;34m=\u001b[0m\u001b[0mpad\u001b[0m\u001b[0;34m(\u001b[0m\u001b[0mX\u001b[0m\u001b[0;34m[\u001b[0m\u001b[0;36m0\u001b[0m\u001b[0;34m]\u001b[0m\u001b[0;34m,\u001b[0m \u001b[0;36m512\u001b[0m\u001b[0;34m,\u001b[0m \u001b[0;36m512\u001b[0m\u001b[0;34m)\u001b[0m\u001b[0;34m\u001b[0m\u001b[0;34m\u001b[0m\u001b[0m\n\u001b[0m\u001b[1;32m      4\u001b[0m \u001b[0mnew_img\u001b[0m\u001b[0;34m=\u001b[0m\u001b[0mimage\u001b[0m\u001b[0;34m.\u001b[0m\u001b[0marray_to_img\u001b[0m\u001b[0;34m(\u001b[0m\u001b[0mnew_img_array\u001b[0m\u001b[0;34m)\u001b[0m\u001b[0;34m\u001b[0m\u001b[0;34m\u001b[0m\u001b[0m\n\u001b[1;32m      5\u001b[0m \u001b[0mnew_img\u001b[0m\u001b[0;34m.\u001b[0m\u001b[0mshow\u001b[0m\u001b[0;34m(\u001b[0m\u001b[0;34m)\u001b[0m\u001b[0;34m\u001b[0m\u001b[0;34m\u001b[0m\u001b[0m\n",
      "\u001b[0;31mNameError\u001b[0m: name 'X' is not defined"
     ]
    }
   ],
   "source": [
    "#checking if padding works\n",
    "img = image.load_img('images_movies_genre/toy-story.jpg', target_size=(224, 224, 3))\n",
    "new_img_array=pad(X[0], 512, 512)\n",
    "new_img=image.array_to_img(new_img_array)\n",
    "new_img.show()"
   ]
  },
  {
   "cell_type": "code",
   "execution_count": 16,
   "metadata": {},
   "outputs": [],
   "source": [
    "import ast\n",
    "#reference-https://www.geeksforgeeks.org/adding-new-column-to-existing-dataframe-in-pandas/\n",
    "def genre_list(str):\n",
    "    arr=ast.literal_eval(str)\n",
    "    genreList=[dict['name'] for dict in arr]\n",
    "    return genreList"
   ]
  },
  {
   "cell_type": "code",
   "execution_count": 17,
   "metadata": {},
   "outputs": [
    {
     "data": {
      "text/plain": [
       "['Animation', 'Comedy', 'Family']"
      ]
     },
     "execution_count": 17,
     "metadata": {},
     "output_type": "execute_result"
    }
   ],
   "source": [
    "genre_list_collection=[]\n",
    "for i in movies['genres']:\n",
    "    genre_list_collection+=[genre_list(i)]\n",
    "genre_list_collection[0]"
   ]
  },
  {
   "cell_type": "code",
   "execution_count": 18,
   "metadata": {},
   "outputs": [
    {
     "name": "stdout",
     "output_type": "stream",
     "text": [
      "Features:  Index(['adult', 'belongs_to_collection', 'budget', 'genres', 'homepage',\n",
      "       'genre_list', 'id', 'imdb_id', 'original_language', 'original_title',\n",
      "       'overview', 'popularity', 'poster_path', 'production_companies',\n",
      "       'production_countries', 'release_date', 'revenue', 'runtime',\n",
      "       'spoken_languages', 'status', 'tagline', 'title', 'video',\n",
      "       'vote_average', 'vote_count'],\n",
      "      dtype='object')\n"
     ]
    },
    {
     "data": {
      "text/plain": [
       "0                [Animation, Comedy, Family]\n",
       "1               [Adventure, Fantasy, Family]\n",
       "2                          [Romance, Comedy]\n",
       "3                   [Comedy, Drama, Romance]\n",
       "4                                   [Comedy]\n",
       "                        ...                 \n",
       "5034                                [Horror]\n",
       "5035                [Romance, Drama, Comedy]\n",
       "5036    [Comedy, Thriller, Mystery, Romance]\n",
       "5037                [Comedy, Music, Romance]\n",
       "5038                                 [Drama]\n",
       "Name: genre_list, Length: 5000, dtype: object"
      ]
     },
     "execution_count": 18,
     "metadata": {},
     "output_type": "execute_result"
    }
   ],
   "source": [
    "#adding a column called genre_list which contains all the genres of the movies in a list\n",
    "movies.insert(5, \"genre_list\", genre_list_collection, True)\n",
    "print(\"Features: \", movies.columns)\n",
    "movies['genre_list']"
   ]
  },
  {
   "cell_type": "code",
   "execution_count": 19,
   "metadata": {},
   "outputs": [
    {
     "data": {
      "text/plain": [
       "20"
      ]
     },
     "execution_count": 19,
     "metadata": {},
     "output_type": "execute_result"
    }
   ],
   "source": [
    "all_genres = sum(genre_list_collection,[])\n",
    "len(set(all_genres))"
   ]
  },
  {
   "cell_type": "code",
   "execution_count": 20,
   "metadata": {
    "scrolled": true
   },
   "outputs": [
    {
     "name": "stdout",
     "output_type": "stream",
     "text": [
      "(5000, 20)\n",
      "      Action  Adventure  Animation  Comedy  Crime  Documentary  Drama  Family  \\\n",
      "0          0          0          1       1      0            0      0       1   \n",
      "1          0          1          0       0      0            0      0       1   \n",
      "2          0          0          0       1      0            0      0       0   \n",
      "3          0          0          0       1      0            0      1       0   \n",
      "4          0          0          0       1      0            0      0       0   \n",
      "...      ...        ...        ...     ...    ...          ...    ...     ...   \n",
      "4995       0          0          0       0      0            0      0       0   \n",
      "4996       0          0          0       1      0            0      1       0   \n",
      "4997       0          0          0       1      0            0      0       0   \n",
      "4998       0          0          0       1      0            0      0       0   \n",
      "4999       0          0          0       0      0            0      1       0   \n",
      "\n",
      "      Fantasy  Foreign  History  Horror  Music  Mystery  Romance  \\\n",
      "0           0        0        0       0      0        0        0   \n",
      "1           1        0        0       0      0        0        0   \n",
      "2           0        0        0       0      0        0        1   \n",
      "3           0        0        0       0      0        0        1   \n",
      "4           0        0        0       0      0        0        0   \n",
      "...       ...      ...      ...     ...    ...      ...      ...   \n",
      "4995        0        0        0       1      0        0        0   \n",
      "4996        0        0        0       0      0        0        1   \n",
      "4997        0        0        0       0      0        1        1   \n",
      "4998        0        0        0       0      1        0        1   \n",
      "4999        0        0        0       0      0        0        0   \n",
      "\n",
      "      Science Fiction  TV Movie  Thriller  War  Western  \n",
      "0                   0         0         0    0        0  \n",
      "1                   0         0         0    0        0  \n",
      "2                   0         0         0    0        0  \n",
      "3                   0         0         0    0        0  \n",
      "4                   0         0         0    0        0  \n",
      "...               ...       ...       ...  ...      ...  \n",
      "4995                0         0         0    0        0  \n",
      "4996                0         0         0    0        0  \n",
      "4997                0         0         1    0        0  \n",
      "4998                0         0         0    0        0  \n",
      "4999                0         0         0    0        0  \n",
      "\n",
      "[5000 rows x 20 columns]\n"
     ]
    }
   ],
   "source": [
    "#One hot encoding the genres\n",
    "from sklearn.preprocessing import MultiLabelBinarizer\n",
    "mlb = MultiLabelBinarizer()\n",
    "mlb.fit(movies['genre_list'].values)\n",
    "genreLabelsList=mlb.transform(movies['genre_list'])\n",
    "print(genreLabelsList.shape)\n",
    "#TODO Add the one hot encoded genres to the movies dataframe\n",
    "genre_labels=pd.DataFrame(genreLabelsList, columns=mlb.classes_)\n",
    "print(genre_labels)"
   ]
  },
  {
   "cell_type": "code",
   "execution_count": 21,
   "metadata": {},
   "outputs": [],
   "source": [
    "genre_labels.to_csv('GenreLabels.csv', index=False)"
   ]
  },
  {
   "cell_type": "code",
   "execution_count": 35,
   "metadata": {},
   "outputs": [
    {
     "data": {
      "text/plain": [
       "array(['Action', 'Adventure', 'Animation', 'Comedy', 'Crime',\n",
       "       'Documentary', 'Drama', 'Family', 'Fantasy', 'Foreign', 'History',\n",
       "       'Horror', 'Music', 'Mystery', 'Romance', 'Science Fiction',\n",
       "       'TV Movie', 'Thriller', 'War', 'Western'], dtype=object)"
      ]
     },
     "execution_count": 35,
     "metadata": {},
     "output_type": "execute_result"
    }
   ],
   "source": [
    "mlb.classes_"
   ]
  },
  {
   "cell_type": "code",
   "execution_count": 36,
   "metadata": {},
   "outputs": [
    {
     "data": {
      "text/html": [
       "<div>\n",
       "<style scoped>\n",
       "    .dataframe tbody tr th:only-of-type {\n",
       "        vertical-align: middle;\n",
       "    }\n",
       "\n",
       "    .dataframe tbody tr th {\n",
       "        vertical-align: top;\n",
       "    }\n",
       "\n",
       "    .dataframe thead th {\n",
       "        text-align: right;\n",
       "    }\n",
       "</style>\n",
       "<table border=\"1\" class=\"dataframe\">\n",
       "  <thead>\n",
       "    <tr style=\"text-align: right;\">\n",
       "      <th></th>\n",
       "      <th>overview</th>\n",
       "      <th>Action</th>\n",
       "      <th>Adventure</th>\n",
       "      <th>Animation</th>\n",
       "      <th>Comedy</th>\n",
       "      <th>Crime</th>\n",
       "      <th>Documentary</th>\n",
       "      <th>Drama</th>\n",
       "      <th>Family</th>\n",
       "      <th>Fantasy</th>\n",
       "      <th>...</th>\n",
       "      <th>History</th>\n",
       "      <th>Horror</th>\n",
       "      <th>Music</th>\n",
       "      <th>Mystery</th>\n",
       "      <th>Romance</th>\n",
       "      <th>Science Fiction</th>\n",
       "      <th>TV Movie</th>\n",
       "      <th>Thriller</th>\n",
       "      <th>War</th>\n",
       "      <th>Western</th>\n",
       "    </tr>\n",
       "  </thead>\n",
       "  <tbody>\n",
       "    <tr>\n",
       "      <th>0</th>\n",
       "      <td>Led by Woody, Andy's toys live happily in his ...</td>\n",
       "      <td>0</td>\n",
       "      <td>0</td>\n",
       "      <td>1</td>\n",
       "      <td>1</td>\n",
       "      <td>0</td>\n",
       "      <td>0</td>\n",
       "      <td>0</td>\n",
       "      <td>1</td>\n",
       "      <td>0</td>\n",
       "      <td>...</td>\n",
       "      <td>0</td>\n",
       "      <td>0</td>\n",
       "      <td>0</td>\n",
       "      <td>0</td>\n",
       "      <td>0</td>\n",
       "      <td>0</td>\n",
       "      <td>0</td>\n",
       "      <td>0</td>\n",
       "      <td>0</td>\n",
       "      <td>0</td>\n",
       "    </tr>\n",
       "    <tr>\n",
       "      <th>1</th>\n",
       "      <td>When siblings Judy and Peter discover an encha...</td>\n",
       "      <td>0</td>\n",
       "      <td>1</td>\n",
       "      <td>0</td>\n",
       "      <td>0</td>\n",
       "      <td>0</td>\n",
       "      <td>0</td>\n",
       "      <td>0</td>\n",
       "      <td>1</td>\n",
       "      <td>1</td>\n",
       "      <td>...</td>\n",
       "      <td>0</td>\n",
       "      <td>0</td>\n",
       "      <td>0</td>\n",
       "      <td>0</td>\n",
       "      <td>0</td>\n",
       "      <td>0</td>\n",
       "      <td>0</td>\n",
       "      <td>0</td>\n",
       "      <td>0</td>\n",
       "      <td>0</td>\n",
       "    </tr>\n",
       "    <tr>\n",
       "      <th>2</th>\n",
       "      <td>A family wedding reignites the ancient feud be...</td>\n",
       "      <td>0</td>\n",
       "      <td>0</td>\n",
       "      <td>0</td>\n",
       "      <td>1</td>\n",
       "      <td>0</td>\n",
       "      <td>0</td>\n",
       "      <td>0</td>\n",
       "      <td>0</td>\n",
       "      <td>0</td>\n",
       "      <td>...</td>\n",
       "      <td>0</td>\n",
       "      <td>0</td>\n",
       "      <td>0</td>\n",
       "      <td>0</td>\n",
       "      <td>1</td>\n",
       "      <td>0</td>\n",
       "      <td>0</td>\n",
       "      <td>0</td>\n",
       "      <td>0</td>\n",
       "      <td>0</td>\n",
       "    </tr>\n",
       "    <tr>\n",
       "      <th>3</th>\n",
       "      <td>Cheated on, mistreated and stepped on, the wom...</td>\n",
       "      <td>0</td>\n",
       "      <td>0</td>\n",
       "      <td>0</td>\n",
       "      <td>1</td>\n",
       "      <td>0</td>\n",
       "      <td>0</td>\n",
       "      <td>1</td>\n",
       "      <td>0</td>\n",
       "      <td>0</td>\n",
       "      <td>...</td>\n",
       "      <td>0</td>\n",
       "      <td>0</td>\n",
       "      <td>0</td>\n",
       "      <td>0</td>\n",
       "      <td>1</td>\n",
       "      <td>0</td>\n",
       "      <td>0</td>\n",
       "      <td>0</td>\n",
       "      <td>0</td>\n",
       "      <td>0</td>\n",
       "    </tr>\n",
       "    <tr>\n",
       "      <th>4</th>\n",
       "      <td>Just when George Banks has recovered from his ...</td>\n",
       "      <td>0</td>\n",
       "      <td>0</td>\n",
       "      <td>0</td>\n",
       "      <td>1</td>\n",
       "      <td>0</td>\n",
       "      <td>0</td>\n",
       "      <td>0</td>\n",
       "      <td>0</td>\n",
       "      <td>0</td>\n",
       "      <td>...</td>\n",
       "      <td>0</td>\n",
       "      <td>0</td>\n",
       "      <td>0</td>\n",
       "      <td>0</td>\n",
       "      <td>0</td>\n",
       "      <td>0</td>\n",
       "      <td>0</td>\n",
       "      <td>0</td>\n",
       "      <td>0</td>\n",
       "      <td>0</td>\n",
       "    </tr>\n",
       "  </tbody>\n",
       "</table>\n",
       "<p>5 rows × 21 columns</p>\n",
       "</div>"
      ],
      "text/plain": [
       "                                            overview  Action  Adventure  \\\n",
       "0  Led by Woody, Andy's toys live happily in his ...       0          0   \n",
       "1  When siblings Judy and Peter discover an encha...       0          1   \n",
       "2  A family wedding reignites the ancient feud be...       0          0   \n",
       "3  Cheated on, mistreated and stepped on, the wom...       0          0   \n",
       "4  Just when George Banks has recovered from his ...       0          0   \n",
       "\n",
       "   Animation  Comedy  Crime  Documentary  Drama  Family  Fantasy  ...  \\\n",
       "0          1       1      0            0      0       1        0  ...   \n",
       "1          0       0      0            0      0       1        1  ...   \n",
       "2          0       1      0            0      0       0        0  ...   \n",
       "3          0       1      0            0      1       0        0  ...   \n",
       "4          0       1      0            0      0       0        0  ...   \n",
       "\n",
       "   History  Horror  Music  Mystery  Romance  Science Fiction  TV Movie  \\\n",
       "0        0       0      0        0        0                0         0   \n",
       "1        0       0      0        0        0                0         0   \n",
       "2        0       0      0        0        1                0         0   \n",
       "3        0       0      0        0        1                0         0   \n",
       "4        0       0      0        0        0                0         0   \n",
       "\n",
       "   Thriller  War  Western  \n",
       "0         0    0        0  \n",
       "1         0    0        0  \n",
       "2         0    0        0  \n",
       "3         0    0        0  \n",
       "4         0    0        0  \n",
       "\n",
       "[5 rows x 21 columns]"
      ]
     },
     "execution_count": 36,
     "metadata": {},
     "output_type": "execute_result"
    }
   ],
   "source": [
    "overviews=pd.DataFrame(movies[\"overview\"])\n",
    "movies_with_overviews=pd.concat([overviews, genre_labels], axis=1)\n",
    "movies_with_overviews.head()\n",
    "#movies_with_overveiws=genre_labels\n",
    "#movies_with_overviews[\"overview\"]=movies[\"overview\"]"
   ]
  },
  {
   "cell_type": "code",
   "execution_count": 37,
   "metadata": {},
   "outputs": [],
   "source": [
    "overviews=pd.DataFrame(movies[\"overview\"])\n",
    "movies_with_overviews=pd.concat([overviews, genre_labels], axis=1)\n",
    "movies_with_overviews.head()\n",
    "movies_with_overviews.dropna(subset = [\"Action\"], inplace=True)\n",
    "#movies.dropna(subset = [\"overview\"], inplace=True)"
   ]
  },
  {
   "cell_type": "code",
   "execution_count": 38,
   "metadata": {},
   "outputs": [
    {
     "data": {
      "text/html": [
       "<div>\n",
       "<style scoped>\n",
       "    .dataframe tbody tr th:only-of-type {\n",
       "        vertical-align: middle;\n",
       "    }\n",
       "\n",
       "    .dataframe tbody tr th {\n",
       "        vertical-align: top;\n",
       "    }\n",
       "\n",
       "    .dataframe thead th {\n",
       "        text-align: right;\n",
       "    }\n",
       "</style>\n",
       "<table border=\"1\" class=\"dataframe\">\n",
       "  <thead>\n",
       "    <tr style=\"text-align: right;\">\n",
       "      <th></th>\n",
       "      <th>overview</th>\n",
       "      <th>Action</th>\n",
       "      <th>Adventure</th>\n",
       "      <th>Animation</th>\n",
       "      <th>Comedy</th>\n",
       "      <th>Crime</th>\n",
       "      <th>Documentary</th>\n",
       "      <th>Drama</th>\n",
       "      <th>Family</th>\n",
       "      <th>Fantasy</th>\n",
       "      <th>...</th>\n",
       "      <th>History</th>\n",
       "      <th>Horror</th>\n",
       "      <th>Music</th>\n",
       "      <th>Mystery</th>\n",
       "      <th>Romance</th>\n",
       "      <th>Science Fiction</th>\n",
       "      <th>TV Movie</th>\n",
       "      <th>Thriller</th>\n",
       "      <th>War</th>\n",
       "      <th>Western</th>\n",
       "    </tr>\n",
       "  </thead>\n",
       "  <tbody>\n",
       "    <tr>\n",
       "      <th>0</th>\n",
       "      <td>Led by Woody, Andy's toys live happily in his ...</td>\n",
       "      <td>0</td>\n",
       "      <td>0</td>\n",
       "      <td>1</td>\n",
       "      <td>1</td>\n",
       "      <td>0</td>\n",
       "      <td>0</td>\n",
       "      <td>0</td>\n",
       "      <td>1</td>\n",
       "      <td>0</td>\n",
       "      <td>...</td>\n",
       "      <td>0</td>\n",
       "      <td>0</td>\n",
       "      <td>0</td>\n",
       "      <td>0</td>\n",
       "      <td>0</td>\n",
       "      <td>0</td>\n",
       "      <td>0</td>\n",
       "      <td>0</td>\n",
       "      <td>0</td>\n",
       "      <td>0</td>\n",
       "    </tr>\n",
       "    <tr>\n",
       "      <th>1</th>\n",
       "      <td>When siblings Judy and Peter discover an encha...</td>\n",
       "      <td>0</td>\n",
       "      <td>1</td>\n",
       "      <td>0</td>\n",
       "      <td>0</td>\n",
       "      <td>0</td>\n",
       "      <td>0</td>\n",
       "      <td>0</td>\n",
       "      <td>1</td>\n",
       "      <td>1</td>\n",
       "      <td>...</td>\n",
       "      <td>0</td>\n",
       "      <td>0</td>\n",
       "      <td>0</td>\n",
       "      <td>0</td>\n",
       "      <td>0</td>\n",
       "      <td>0</td>\n",
       "      <td>0</td>\n",
       "      <td>0</td>\n",
       "      <td>0</td>\n",
       "      <td>0</td>\n",
       "    </tr>\n",
       "    <tr>\n",
       "      <th>2</th>\n",
       "      <td>A family wedding reignites the ancient feud be...</td>\n",
       "      <td>0</td>\n",
       "      <td>0</td>\n",
       "      <td>0</td>\n",
       "      <td>1</td>\n",
       "      <td>0</td>\n",
       "      <td>0</td>\n",
       "      <td>0</td>\n",
       "      <td>0</td>\n",
       "      <td>0</td>\n",
       "      <td>...</td>\n",
       "      <td>0</td>\n",
       "      <td>0</td>\n",
       "      <td>0</td>\n",
       "      <td>0</td>\n",
       "      <td>1</td>\n",
       "      <td>0</td>\n",
       "      <td>0</td>\n",
       "      <td>0</td>\n",
       "      <td>0</td>\n",
       "      <td>0</td>\n",
       "    </tr>\n",
       "    <tr>\n",
       "      <th>3</th>\n",
       "      <td>Cheated on, mistreated and stepped on, the wom...</td>\n",
       "      <td>0</td>\n",
       "      <td>0</td>\n",
       "      <td>0</td>\n",
       "      <td>1</td>\n",
       "      <td>0</td>\n",
       "      <td>0</td>\n",
       "      <td>1</td>\n",
       "      <td>0</td>\n",
       "      <td>0</td>\n",
       "      <td>...</td>\n",
       "      <td>0</td>\n",
       "      <td>0</td>\n",
       "      <td>0</td>\n",
       "      <td>0</td>\n",
       "      <td>1</td>\n",
       "      <td>0</td>\n",
       "      <td>0</td>\n",
       "      <td>0</td>\n",
       "      <td>0</td>\n",
       "      <td>0</td>\n",
       "    </tr>\n",
       "    <tr>\n",
       "      <th>4</th>\n",
       "      <td>Just when George Banks has recovered from his ...</td>\n",
       "      <td>0</td>\n",
       "      <td>0</td>\n",
       "      <td>0</td>\n",
       "      <td>1</td>\n",
       "      <td>0</td>\n",
       "      <td>0</td>\n",
       "      <td>0</td>\n",
       "      <td>0</td>\n",
       "      <td>0</td>\n",
       "      <td>...</td>\n",
       "      <td>0</td>\n",
       "      <td>0</td>\n",
       "      <td>0</td>\n",
       "      <td>0</td>\n",
       "      <td>0</td>\n",
       "      <td>0</td>\n",
       "      <td>0</td>\n",
       "      <td>0</td>\n",
       "      <td>0</td>\n",
       "      <td>0</td>\n",
       "    </tr>\n",
       "    <tr>\n",
       "      <th>...</th>\n",
       "      <td>...</td>\n",
       "      <td>...</td>\n",
       "      <td>...</td>\n",
       "      <td>...</td>\n",
       "      <td>...</td>\n",
       "      <td>...</td>\n",
       "      <td>...</td>\n",
       "      <td>...</td>\n",
       "      <td>...</td>\n",
       "      <td>...</td>\n",
       "      <td>...</td>\n",
       "      <td>...</td>\n",
       "      <td>...</td>\n",
       "      <td>...</td>\n",
       "      <td>...</td>\n",
       "      <td>...</td>\n",
       "      <td>...</td>\n",
       "      <td>...</td>\n",
       "      <td>...</td>\n",
       "      <td>...</td>\n",
       "      <td>...</td>\n",
       "    </tr>\n",
       "    <tr>\n",
       "      <th>4995</th>\n",
       "      <td>The calving of an Arctic iceberg releases a gi...</td>\n",
       "      <td>0</td>\n",
       "      <td>0</td>\n",
       "      <td>0</td>\n",
       "      <td>0</td>\n",
       "      <td>0</td>\n",
       "      <td>0</td>\n",
       "      <td>0</td>\n",
       "      <td>0</td>\n",
       "      <td>0</td>\n",
       "      <td>...</td>\n",
       "      <td>0</td>\n",
       "      <td>1</td>\n",
       "      <td>0</td>\n",
       "      <td>0</td>\n",
       "      <td>0</td>\n",
       "      <td>0</td>\n",
       "      <td>0</td>\n",
       "      <td>0</td>\n",
       "      <td>0</td>\n",
       "      <td>0</td>\n",
       "    </tr>\n",
       "    <tr>\n",
       "      <th>4996</th>\n",
       "      <td>A grieving doctor is being contacted by his la...</td>\n",
       "      <td>0</td>\n",
       "      <td>0</td>\n",
       "      <td>0</td>\n",
       "      <td>1</td>\n",
       "      <td>0</td>\n",
       "      <td>0</td>\n",
       "      <td>1</td>\n",
       "      <td>0</td>\n",
       "      <td>0</td>\n",
       "      <td>...</td>\n",
       "      <td>0</td>\n",
       "      <td>0</td>\n",
       "      <td>0</td>\n",
       "      <td>0</td>\n",
       "      <td>1</td>\n",
       "      <td>0</td>\n",
       "      <td>0</td>\n",
       "      <td>0</td>\n",
       "      <td>0</td>\n",
       "      <td>0</td>\n",
       "    </tr>\n",
       "    <tr>\n",
       "      <th>4997</th>\n",
       "      <td>Lestat de Lioncourt is awakened from his slumb...</td>\n",
       "      <td>0</td>\n",
       "      <td>0</td>\n",
       "      <td>0</td>\n",
       "      <td>1</td>\n",
       "      <td>0</td>\n",
       "      <td>0</td>\n",
       "      <td>0</td>\n",
       "      <td>0</td>\n",
       "      <td>0</td>\n",
       "      <td>...</td>\n",
       "      <td>0</td>\n",
       "      <td>0</td>\n",
       "      <td>0</td>\n",
       "      <td>1</td>\n",
       "      <td>1</td>\n",
       "      <td>0</td>\n",
       "      <td>0</td>\n",
       "      <td>1</td>\n",
       "      <td>0</td>\n",
       "      <td>0</td>\n",
       "    </tr>\n",
       "    <tr>\n",
       "      <th>4998</th>\n",
       "      <td>Vietnam veteran Leon Barlow is struggling as a...</td>\n",
       "      <td>0</td>\n",
       "      <td>0</td>\n",
       "      <td>0</td>\n",
       "      <td>1</td>\n",
       "      <td>0</td>\n",
       "      <td>0</td>\n",
       "      <td>0</td>\n",
       "      <td>0</td>\n",
       "      <td>0</td>\n",
       "      <td>...</td>\n",
       "      <td>0</td>\n",
       "      <td>0</td>\n",
       "      <td>1</td>\n",
       "      <td>0</td>\n",
       "      <td>1</td>\n",
       "      <td>0</td>\n",
       "      <td>0</td>\n",
       "      <td>0</td>\n",
       "      <td>0</td>\n",
       "      <td>0</td>\n",
       "    </tr>\n",
       "    <tr>\n",
       "      <th>4999</th>\n",
       "      <td>A tale about Vietnamese refugees sent to an or...</td>\n",
       "      <td>0</td>\n",
       "      <td>0</td>\n",
       "      <td>0</td>\n",
       "      <td>0</td>\n",
       "      <td>0</td>\n",
       "      <td>0</td>\n",
       "      <td>1</td>\n",
       "      <td>0</td>\n",
       "      <td>0</td>\n",
       "      <td>...</td>\n",
       "      <td>0</td>\n",
       "      <td>0</td>\n",
       "      <td>0</td>\n",
       "      <td>0</td>\n",
       "      <td>0</td>\n",
       "      <td>0</td>\n",
       "      <td>0</td>\n",
       "      <td>0</td>\n",
       "      <td>0</td>\n",
       "      <td>0</td>\n",
       "    </tr>\n",
       "  </tbody>\n",
       "</table>\n",
       "<p>5000 rows × 21 columns</p>\n",
       "</div>"
      ],
      "text/plain": [
       "                                               overview  Action  Adventure  \\\n",
       "0     Led by Woody, Andy's toys live happily in his ...       0          0   \n",
       "1     When siblings Judy and Peter discover an encha...       0          1   \n",
       "2     A family wedding reignites the ancient feud be...       0          0   \n",
       "3     Cheated on, mistreated and stepped on, the wom...       0          0   \n",
       "4     Just when George Banks has recovered from his ...       0          0   \n",
       "...                                                 ...     ...        ...   \n",
       "4995  The calving of an Arctic iceberg releases a gi...       0          0   \n",
       "4996  A grieving doctor is being contacted by his la...       0          0   \n",
       "4997  Lestat de Lioncourt is awakened from his slumb...       0          0   \n",
       "4998  Vietnam veteran Leon Barlow is struggling as a...       0          0   \n",
       "4999  A tale about Vietnamese refugees sent to an or...       0          0   \n",
       "\n",
       "      Animation  Comedy  Crime  Documentary  Drama  Family  Fantasy  ...  \\\n",
       "0             1       1      0            0      0       1        0  ...   \n",
       "1             0       0      0            0      0       1        1  ...   \n",
       "2             0       1      0            0      0       0        0  ...   \n",
       "3             0       1      0            0      1       0        0  ...   \n",
       "4             0       1      0            0      0       0        0  ...   \n",
       "...         ...     ...    ...          ...    ...     ...      ...  ...   \n",
       "4995          0       0      0            0      0       0        0  ...   \n",
       "4996          0       1      0            0      1       0        0  ...   \n",
       "4997          0       1      0            0      0       0        0  ...   \n",
       "4998          0       1      0            0      0       0        0  ...   \n",
       "4999          0       0      0            0      1       0        0  ...   \n",
       "\n",
       "      History  Horror  Music  Mystery  Romance  Science Fiction  TV Movie  \\\n",
       "0           0       0      0        0        0                0         0   \n",
       "1           0       0      0        0        0                0         0   \n",
       "2           0       0      0        0        1                0         0   \n",
       "3           0       0      0        0        1                0         0   \n",
       "4           0       0      0        0        0                0         0   \n",
       "...       ...     ...    ...      ...      ...              ...       ...   \n",
       "4995        0       1      0        0        0                0         0   \n",
       "4996        0       0      0        0        1                0         0   \n",
       "4997        0       0      0        1        1                0         0   \n",
       "4998        0       0      1        0        1                0         0   \n",
       "4999        0       0      0        0        0                0         0   \n",
       "\n",
       "      Thriller  War  Western  \n",
       "0            0    0        0  \n",
       "1            0    0        0  \n",
       "2            0    0        0  \n",
       "3            0    0        0  \n",
       "4            0    0        0  \n",
       "...        ...  ...      ...  \n",
       "4995         0    0        0  \n",
       "4996         0    0        0  \n",
       "4997         1    0        0  \n",
       "4998         0    0        0  \n",
       "4999         0    0        0  \n",
       "\n",
       "[5000 rows x 21 columns]"
      ]
     },
     "execution_count": 38,
     "metadata": {},
     "output_type": "execute_result"
    }
   ],
   "source": [
    "movies_with_overviews"
   ]
  },
  {
   "cell_type": "code",
   "execution_count": 41,
   "metadata": {},
   "outputs": [],
   "source": [
    "filename = \"/Users/anshverma/Documents/GitHub/MovieGenrePrediction/ImageData\"\n",
    "import numpy as np\n",
    "def loadImages(): \n",
    "    filehandler = open(filename, 'rb') \n",
    "    files = np.load(filehandler, allow_pickle=True) #pickle.load(filehandler)\n",
    "    return files"
   ]
  },
  {
   "cell_type": "code",
   "execution_count": 42,
   "metadata": {},
   "outputs": [],
   "source": [
    "newX = loadImages()"
   ]
  },
  {
   "cell_type": "code",
   "execution_count": 43,
   "metadata": {},
   "outputs": [
    {
     "name": "stdout",
     "output_type": "stream",
     "text": [
      "Shape:  (5000, 21)\n",
      "Features:  Index(['overview', 'Action', 'Adventure', 'Animation', 'Comedy', 'Crime',\n",
      "       'Documentary', 'Drama', 'Family', 'Fantasy', 'Foreign', 'History',\n",
      "       'Horror', 'Music', 'Mystery', 'Romance', 'Science Fiction', 'TV Movie',\n",
      "       'Thriller', 'War', 'Western'],\n",
      "      dtype='object')\n"
     ]
    }
   ],
   "source": [
    "print(\"Shape: \", movies_with_overviews.shape)\n",
    "print(\"Features: \", movies_with_overviews.columns)\n",
    "movies_with_overviews.to_csv('MoviesWithOverviews.csv', index=False)"
   ]
  },
  {
   "cell_type": "code",
   "execution_count": 44,
   "metadata": {},
   "outputs": [
    {
     "data": {
      "text/plain": [
       "(4961, 25)"
      ]
     },
     "execution_count": 44,
     "metadata": {},
     "output_type": "execute_result"
    }
   ],
   "source": [
    "movies.shape"
   ]
  },
  {
   "cell_type": "code",
   "execution_count": 45,
   "metadata": {},
   "outputs": [
    {
     "name": "stderr",
     "output_type": "stream",
     "text": [
      "[nltk_data] Downloading package stopwords to\n",
      "[nltk_data]     /Users/anshverma/nltk_data...\n",
      "[nltk_data]   Package stopwords is already up-to-date!\n"
     ]
    },
    {
     "data": {
      "text/plain": [
       "True"
      ]
     },
     "execution_count": 45,
     "metadata": {},
     "output_type": "execute_result"
    }
   ],
   "source": [
    "nltk.download('stopwords')"
   ]
  },
  {
   "cell_type": "code",
   "execution_count": 46,
   "metadata": {},
   "outputs": [],
   "source": [
    "# Text cleaning\n",
    "#reference: https://www.analyticsvidhya.com/blog/2019/04/predicting-movie-genres-nlp-multi-label-classification/\n",
    "from nltk.corpus import stopwords\n",
    "stop_words = set(stopwords.words('english'))\n",
    "\n",
    "def clean_text(text): \n",
    "    #removing everything except letters and converting to lower case\n",
    "    text = re.sub(\"[^a-zA-Z]\",\" \",str(text))\n",
    "    text = ' '.join(text.split())\n",
    "    text = text.lower() \n",
    "    return text\n",
    "\n",
    "# Removing stopwords such as the, and, to, or etc\n",
    "def remove_stopwords(text):\n",
    "    no_stopword_text = [w for w in text.split() if not w in stop_words]\n",
    "    return ' '.join(no_stopword_text)"
   ]
  },
  {
   "cell_type": "code",
   "execution_count": 47,
   "metadata": {},
   "outputs": [
    {
     "name": "stdout",
     "output_type": "stream",
     "text": [
      "Features:  Index(['adult', 'belongs_to_collection', 'budget', 'genres', 'homepage',\n",
      "       'genre_list', 'id', 'imdb_id', 'original_language', 'original_title',\n",
      "       'overview', 'plot_summary', 'popularity', 'poster_path',\n",
      "       'production_companies', 'production_countries', 'release_date',\n",
      "       'revenue', 'runtime', 'spoken_languages', 'status', 'tagline', 'title',\n",
      "       'video', 'vote_average', 'vote_count'],\n",
      "      dtype='object')\n"
     ]
    }
   ],
   "source": [
    "plot_summaries=[]\n",
    "for text in movies['overview']:\n",
    "    cleanText=clean_text(text)\n",
    "    textWithoutStopwords=remove_stopwords(cleanText)\n",
    "    plot_summaries+=[textWithoutStopwords]\n",
    "movies.insert(11, \"plot_summary\", plot_summaries, True)\n",
    "print(\"Features: \", movies.columns)"
   ]
  },
  {
   "cell_type": "code",
   "execution_count": 34,
   "metadata": {},
   "outputs": [
    {
     "ename": "KeyError",
     "evalue": "'plot_summary'",
     "output_type": "error",
     "traceback": [
      "\u001b[0;31m---------------------------------------------------------------------------\u001b[0m",
      "\u001b[0;31mKeyError\u001b[0m                                  Traceback (most recent call last)",
      "\u001b[0;32m~/opt/anaconda3/envs/python37/lib/python3.7/site-packages/pandas/core/indexes/base.py\u001b[0m in \u001b[0;36mget_loc\u001b[0;34m(self, key, method, tolerance)\u001b[0m\n\u001b[1;32m   3079\u001b[0m             \u001b[0;32mtry\u001b[0m\u001b[0;34m:\u001b[0m\u001b[0;34m\u001b[0m\u001b[0;34m\u001b[0m\u001b[0m\n\u001b[0;32m-> 3080\u001b[0;31m                 \u001b[0;32mreturn\u001b[0m \u001b[0mself\u001b[0m\u001b[0;34m.\u001b[0m\u001b[0m_engine\u001b[0m\u001b[0;34m.\u001b[0m\u001b[0mget_loc\u001b[0m\u001b[0;34m(\u001b[0m\u001b[0mcasted_key\u001b[0m\u001b[0;34m)\u001b[0m\u001b[0;34m\u001b[0m\u001b[0;34m\u001b[0m\u001b[0m\n\u001b[0m\u001b[1;32m   3081\u001b[0m             \u001b[0;32mexcept\u001b[0m \u001b[0mKeyError\u001b[0m \u001b[0;32mas\u001b[0m \u001b[0merr\u001b[0m\u001b[0;34m:\u001b[0m\u001b[0;34m\u001b[0m\u001b[0;34m\u001b[0m\u001b[0m\n",
      "\u001b[0;32mpandas/_libs/index.pyx\u001b[0m in \u001b[0;36mpandas._libs.index.IndexEngine.get_loc\u001b[0;34m()\u001b[0m\n",
      "\u001b[0;32mpandas/_libs/index.pyx\u001b[0m in \u001b[0;36mpandas._libs.index.IndexEngine.get_loc\u001b[0;34m()\u001b[0m\n",
      "\u001b[0;32mpandas/_libs/hashtable_class_helper.pxi\u001b[0m in \u001b[0;36mpandas._libs.hashtable.PyObjectHashTable.get_item\u001b[0;34m()\u001b[0m\n",
      "\u001b[0;32mpandas/_libs/hashtable_class_helper.pxi\u001b[0m in \u001b[0;36mpandas._libs.hashtable.PyObjectHashTable.get_item\u001b[0;34m()\u001b[0m\n",
      "\u001b[0;31mKeyError\u001b[0m: 'plot_summary'",
      "\nThe above exception was the direct cause of the following exception:\n",
      "\u001b[0;31mKeyError\u001b[0m                                  Traceback (most recent call last)",
      "\u001b[0;32m<ipython-input-34-59d5500fbab9>\u001b[0m in \u001b[0;36m<module>\u001b[0;34m\u001b[0m\n\u001b[0;32m----> 1\u001b[0;31m \u001b[0mmovies\u001b[0m\u001b[0;34m[\u001b[0m\u001b[0;34m\"plot_summary\"\u001b[0m\u001b[0;34m]\u001b[0m\u001b[0;34m\u001b[0m\u001b[0;34m\u001b[0m\u001b[0m\n\u001b[0m",
      "\u001b[0;32m~/opt/anaconda3/envs/python37/lib/python3.7/site-packages/pandas/core/frame.py\u001b[0m in \u001b[0;36m__getitem__\u001b[0;34m(self, key)\u001b[0m\n\u001b[1;32m   3022\u001b[0m             \u001b[0;32mif\u001b[0m \u001b[0mself\u001b[0m\u001b[0;34m.\u001b[0m\u001b[0mcolumns\u001b[0m\u001b[0;34m.\u001b[0m\u001b[0mnlevels\u001b[0m \u001b[0;34m>\u001b[0m \u001b[0;36m1\u001b[0m\u001b[0;34m:\u001b[0m\u001b[0;34m\u001b[0m\u001b[0;34m\u001b[0m\u001b[0m\n\u001b[1;32m   3023\u001b[0m                 \u001b[0;32mreturn\u001b[0m \u001b[0mself\u001b[0m\u001b[0;34m.\u001b[0m\u001b[0m_getitem_multilevel\u001b[0m\u001b[0;34m(\u001b[0m\u001b[0mkey\u001b[0m\u001b[0;34m)\u001b[0m\u001b[0;34m\u001b[0m\u001b[0;34m\u001b[0m\u001b[0m\n\u001b[0;32m-> 3024\u001b[0;31m             \u001b[0mindexer\u001b[0m \u001b[0;34m=\u001b[0m \u001b[0mself\u001b[0m\u001b[0;34m.\u001b[0m\u001b[0mcolumns\u001b[0m\u001b[0;34m.\u001b[0m\u001b[0mget_loc\u001b[0m\u001b[0;34m(\u001b[0m\u001b[0mkey\u001b[0m\u001b[0;34m)\u001b[0m\u001b[0;34m\u001b[0m\u001b[0;34m\u001b[0m\u001b[0m\n\u001b[0m\u001b[1;32m   3025\u001b[0m             \u001b[0;32mif\u001b[0m \u001b[0mis_integer\u001b[0m\u001b[0;34m(\u001b[0m\u001b[0mindexer\u001b[0m\u001b[0;34m)\u001b[0m\u001b[0;34m:\u001b[0m\u001b[0;34m\u001b[0m\u001b[0;34m\u001b[0m\u001b[0m\n\u001b[1;32m   3026\u001b[0m                 \u001b[0mindexer\u001b[0m \u001b[0;34m=\u001b[0m \u001b[0;34m[\u001b[0m\u001b[0mindexer\u001b[0m\u001b[0;34m]\u001b[0m\u001b[0;34m\u001b[0m\u001b[0;34m\u001b[0m\u001b[0m\n",
      "\u001b[0;32m~/opt/anaconda3/envs/python37/lib/python3.7/site-packages/pandas/core/indexes/base.py\u001b[0m in \u001b[0;36mget_loc\u001b[0;34m(self, key, method, tolerance)\u001b[0m\n\u001b[1;32m   3080\u001b[0m                 \u001b[0;32mreturn\u001b[0m \u001b[0mself\u001b[0m\u001b[0;34m.\u001b[0m\u001b[0m_engine\u001b[0m\u001b[0;34m.\u001b[0m\u001b[0mget_loc\u001b[0m\u001b[0;34m(\u001b[0m\u001b[0mcasted_key\u001b[0m\u001b[0;34m)\u001b[0m\u001b[0;34m\u001b[0m\u001b[0;34m\u001b[0m\u001b[0m\n\u001b[1;32m   3081\u001b[0m             \u001b[0;32mexcept\u001b[0m \u001b[0mKeyError\u001b[0m \u001b[0;32mas\u001b[0m \u001b[0merr\u001b[0m\u001b[0;34m:\u001b[0m\u001b[0;34m\u001b[0m\u001b[0;34m\u001b[0m\u001b[0m\n\u001b[0;32m-> 3082\u001b[0;31m                 \u001b[0;32mraise\u001b[0m \u001b[0mKeyError\u001b[0m\u001b[0;34m(\u001b[0m\u001b[0mkey\u001b[0m\u001b[0;34m)\u001b[0m \u001b[0;32mfrom\u001b[0m \u001b[0merr\u001b[0m\u001b[0;34m\u001b[0m\u001b[0;34m\u001b[0m\u001b[0m\n\u001b[0m\u001b[1;32m   3083\u001b[0m \u001b[0;34m\u001b[0m\u001b[0m\n\u001b[1;32m   3084\u001b[0m         \u001b[0;32mif\u001b[0m \u001b[0mtolerance\u001b[0m \u001b[0;32mis\u001b[0m \u001b[0;32mnot\u001b[0m \u001b[0;32mNone\u001b[0m\u001b[0;34m:\u001b[0m\u001b[0;34m\u001b[0m\u001b[0;34m\u001b[0m\u001b[0m\n",
      "\u001b[0;31mKeyError\u001b[0m: 'plot_summary'"
     ]
    }
   ],
   "source": [
    "movies[\"plot_summary\"]"
   ]
  },
  {
   "cell_type": "code",
   "execution_count": 32,
   "metadata": {},
   "outputs": [],
   "source": [
    "X_train, X_test, y_train, y_test = train_test_split(movies, genre_labels, test_size=0.20)"
   ]
  },
  {
   "cell_type": "code",
   "execution_count": null,
   "metadata": {},
   "outputs": [],
   "source": [
    "#saveImages(newX, movies['genre_list']) \n",
    "saveImages(X_train, X_test, fileNameThree, fileNameFour)\n",
    "saveImages(y_train, y_test, fileNameFive, fileNameSix)"
   ]
  },
  {
   "cell_type": "code",
   "execution_count": null,
   "metadata": {},
   "outputs": [],
   "source": [
    "tempSave(genre_labels)"
   ]
  },
  {
   "cell_type": "code",
   "execution_count": null,
   "metadata": {},
   "outputs": [],
   "source": [
    "images = loadImages()"
   ]
  },
  {
   "cell_type": "code",
   "execution_count": null,
   "metadata": {},
   "outputs": [],
   "source": [
    "genres = loadGenres()"
   ]
  },
  {
   "cell_type": "code",
   "execution_count": null,
   "metadata": {},
   "outputs": [],
   "source": [
    "from torch.utils.data import TensorDataset\n",
    "from torch.utils.data import DataLoader\n",
    "\n",
    "tensor_x = torch.Tensor(genre_labels.iloc[:len(newX)].values) # transform to torch tensor\n",
    "tensor_y = torch.Tensor(newX)\n",
    "my_dataset = TensorDataset(tensor_x,tensor_y) # create your datset"
   ]
  },
  {
   "cell_type": "code",
   "execution_count": null,
   "metadata": {},
   "outputs": [],
   "source": [
    "import torch\n",
    "import torch.nn as nn\n",
    "#from torchsummary import summary\n",
    "\n",
    "class ResNet(nn.Module):\n",
    "    def __init__(self, block, layers, num_classes=32):\n",
    "        super(ResNet, self).__init__()\n",
    "        self.block = block\n",
    "        self.conv1 = nn.Conv2d(3, 64, kernel_size=7, stride=2, padding=3)\n",
    "        self.bn1 = nn.BatchNorm2d(64)\n",
    "        self.relu = nn.ReLU()\n",
    "        self.maxpool = nn.MaxPool2d(kernel_size=3, stride=2, padding=1)\n",
    "\n",
    "        #ResNet layers\n",
    "        self.layer1 = self.new_layer(num_blocks=layers[0], in_channels=64, out_channels=64, stride=1)\n",
    "        self.layer2 = self.new_layer(num_blocks=layers[1], in_channels=64, out_channels=128, stride=2)\n",
    "        self.layer3 = self.new_layer(num_blocks=layers[2], in_channels=128, out_channels=256, stride=2)\n",
    "        self.layer4 = self.new_layer(num_blocks=layers[3], in_channels=256, out_channels=512, stride=2)\n",
    "\n",
    "        self.avgpool = nn.AdaptiveAvgPool2d((1, 1))\n",
    "        self.fc = nn.Linear(512, num_classes)\n",
    "\n",
    "    def forward(self, x):\n",
    "        print(x)\n",
    "        print(type(x))\n",
    "        #print(\"input: \", x.shape)\n",
    "        x = self.conv1(x)\n",
    "        #print(\"conv1: \", x.shape)\n",
    "        x = self.bn1(x)\n",
    "        #print(\"bn1: \", x.shape)\n",
    "        x = self.relu(x)\n",
    "        #print(\"relu: \", x.shape)\n",
    "        x = self.maxpool(x)\n",
    "        #print(\"maxpool: \", x.shape)\n",
    "\n",
    "        x = self.layer1(x)\n",
    "        #print(\"layer 1: \", x.shape)\n",
    "        x = self.layer2(x)\n",
    "        #print(\"layer 2: \", x.shape)\n",
    "        x = self.layer3(x)\n",
    "        #print(\"layer 3: \", x.shape)\n",
    "        x = self.layer4(x)\n",
    "        #print(\"layer 4: \", x.shape)\n",
    "\n",
    "        x = self.avgpool(x)\n",
    "        x = x.reshape(x.shape[0], -1)\n",
    "        x = self.fc(x)\n",
    "\n",
    "        return x\n",
    "    \n",
    "    def new_layer(self, num_blocks, in_channels, out_channels, stride):\n",
    "        layers = []\n",
    "        layers.append(self.block(in_channels, out_channels))\n",
    "        intermediate_channels = out_channels\n",
    "        for i in range(num_blocks):\n",
    "            layers.append(self.block(intermediate_channels, out_channels))\n",
    "           \n",
    "        return nn.Sequential(*layers)\n",
    "\n",
    "class Block(nn.Module):\n",
    "    def __init__(self, in_channels, out_channels, stride=1):\n",
    "        super(Block, self).__init__()\n",
    "        self.in_channels = in_channels\n",
    "        self.out_channels = out_channels\n",
    "\n",
    "        self.conv1 = nn.Conv2d(in_channels, out_channels, kernel_size=3, stride=stride, padding=1)\n",
    "        self.bn1 = nn.BatchNorm2d(out_channels)\n",
    "        self.conv2 = nn.Conv2d(out_channels, out_channels, kernel_size=3, stride=stride, padding=1)\n",
    "        self.bn2 = nn.BatchNorm2d(out_channels)\n",
    "        self.conv3 = nn.Conv2d(out_channels, out_channels, kernel_size=3, stride=stride, padding=1)\n",
    "        self.bn3 = nn.BatchNorm2d(out_channels)\n",
    "        self.conv4 = nn.Conv2d(out_channels, out_channels, kernel_size=3, stride=stride, padding=1)\n",
    "        self.bn4 = nn.BatchNorm2d(out_channels)\n",
    "        self.relu = nn.ReLU()\n",
    "\n",
    "        self.identity = nn.Conv2d(in_channels, out_channels, kernel_size=1, stride=stride, padding=0)\n",
    "\n",
    "    def forward(self, x):\n",
    "        identity = x.clone()\n",
    "        if self.in_channels != self.out_channels:\n",
    "            identity = self.identity(identity)\n",
    "        #print(\"id1\", identity.shape)\n",
    "\n",
    "        x = self.conv1(x)\n",
    "        x = self.bn1(x)\n",
    "        x = self.relu(x)\n",
    "        x = self.conv2(x)\n",
    "        x = self.bn2(x)\n",
    "        x = self.relu(x)\n",
    "\n",
    "        #Skip connection 1\n",
    "        #print(\"id2\", identity.shape, x.shape)\n",
    "        x += identity\n",
    "        identity = x.clone()\n",
    "        #print(\"id3\", identity.shape)\n",
    "\n",
    "        x = self.conv3(x)\n",
    "        x = self.bn3(x)\n",
    "        x = self.relu(x)\n",
    "        x = self.conv4(x)\n",
    "        x = self.bn4(x)\n",
    "        x = self.relu(x)\n",
    "\n",
    "        #Skip connection 2\n",
    "        x += identity\n",
    "\n",
    "        x = self.relu(x)\n",
    "\n",
    "        return x\n",
    "\n",
    "def ResNet34():\n",
    "    return ResNet(Block, [3, 4, 6, 3])\n",
    "\n",
    "model = ResNet34()\n",
    "#summary(model, input_size=(3, 224, 224), batch_size=1)"
   ]
  },
  {
   "cell_type": "code",
   "execution_count": null,
   "metadata": {
    "scrolled": false
   },
   "outputs": [],
   "source": [
    "import torch\n",
    "import torch.nn as nn\n",
    "from torch.autograd import Variable\n",
    "from torchvision import transforms\n",
    "from torch.utils.data.dataset import Dataset  # For custom datasets\n",
    "#from data_pytorch import Data\n",
    "#from rotnet import RotNet\n",
    "import time\n",
    "import shutil\n",
    "import yaml\n",
    "\n",
    "#parser = argparse.ArgumentParser(description='Configuration details for training/testing rotation net')\n",
    "#parser.add_argument('--config', type=str, required=True)\n",
    "#parser.add_argument('--train', action='store_true')\n",
    "#parser.add_argument('--data_dir', type=str, required=True)\n",
    "#parser.add_argument('--image', type=str)\n",
    "#parser.add_argument('--model_number', type=str, required=True)\n",
    "\n",
    "#args = parser.parse_args()\n",
    "\n",
    "#config = yaml.load(open(args.config, 'r'), Loader=yaml.FullLoader)\n",
    "\n",
    "\"\"\"\n",
    "epochs = 10\n",
    "\n",
    "for epoch in range(epochs):\n",
    "    total_loss = 0\n",
    "    \n",
    "    #for batch in train_dataloader:\n",
    "    for i, data in enumerate(train_dataloader, 0):\n",
    "        #print(i)\n",
    "        #print(data)\n",
    "        #X_batch, y_batch = batch[0], batch[1] #.view(-1, 784)\n",
    "        #print(y_batch)\n",
    "        #print(X_batch, y_batch)\n",
    "        #print(X_batch, y_batch)\n",
    "        # THESE 5 LINES ARE IMPORTANT, UNDERSTAND WHAT IS HAPPENING HERE\n",
    "        optimizer.zero_grad()\n",
    "        predicted_batch = model(data) \n",
    "        #print(predicted_batch)\n",
    "        loss = criterion(predicted_batch, y_batch)\n",
    "        #print(loss)\n",
    "        loss.backward()\n",
    "        optimizer.step()\n",
    "        total_loss += loss\n",
    "        \n",
    "        \n",
    "       \n",
    "    print(\"Epoch {0}: {1}\".format(epoch, total_loss))\n",
    "    #if epoch%5 == 0 and epoch != 0:\n",
    "    #    test_batch = next(iter(test_dataloader))\n",
    "    #    X_test, y_test = test_batch[0].view(-1, 784), test_batch[1]\n",
    "    #    predicted = model(X_test)\n",
    "    #    test_acc = torch.sum(y_test == torch.argmax(predicted, dim=1), dtype=torch.double) / len(y_test)\n",
    "    #    print(\"\\tTest Accuracy {0}\".format(test_acc))\n",
    "\"\"\"\n",
    "\n",
    "def train(train_loader, model, criterion, optimizer, epoch):\n",
    "    model.train()\n",
    "    total_loss = 0\n",
    "    for i, (test, train) in enumerate(train_loader):\n",
    "        optimizer.zero_grad()\n",
    "        predicted_batch = model(train)\n",
    "        loss = criterion(predicted_batch, test)\n",
    "        loss.backward()\n",
    "        optimizer.step()\n",
    "        total_loss += loss\n",
    "        print(total_loss)\n",
    "    \"\"\" \n",
    "    for i, (input, target) in enumerate(train_loader):\n",
    "        optimizer.zero_grad()\n",
    "        predicted_batch = model(input)\n",
    "        loss = criterion(predicted_batch, y_batch)\n",
    "        loss.backward()\n",
    "        optimizer.step()\n",
    "        total_loss += loss\n",
    "    \"\"\"\n",
    "\n",
    "def validate(val_loader, model, criterion):\n",
    "    model.eval()\n",
    "    for i, (input, target) in enumerate(val_loader):\n",
    "        optimizer.zero_grad()\n",
    "        outputs = model(input)\n",
    "        #TODO: implement the validation. Remember this is validation and not training\n",
    "        #so some things will be different.\n",
    "\n",
    "def save_checkpoint(state, best_one, filename='rotationnetcheckpoint.pth.tar', filename2='rotationnetmodelbest.pth.tar'):\n",
    "    torch.save(state, filename)\n",
    "    #best_one stores whether your current checkpoint is better than the previous checkpoint\n",
    "    if best_one:\n",
    "        shutil.copyfile(filename, filename2)\n",
    "\n",
    "def main():\n",
    "    n_epochs = 10 #config[\"num_epochs\"]\n",
    "    model = ResNet34()\n",
    "    criterion = torch.nn.MSELoss() #what is your loss function\n",
    "    optimizer = torch.optim.SGD(model.parameters(), lr=0.0001, momentum = 0.9) #temp\n",
    "    train_dataset = loadImages()\n",
    "    train_dataloader = DataLoader(my_dataset, batch_size=256, shuffle=True)\n",
    "    #val_loader = #how will you get your dataset\n",
    "    #val_loader = #how will you use pytorch's function to build a dataloader\n",
    "    for epoch in range(n_epochs):\n",
    "            train(train_dataloader, model, criterion, optimizer, epoch)\n",
    "            \n",
    "         #TODO: make your loop which trains and validates. Use the train() func\n",
    "\n",
    "         #TODO: Save your checkpoint\n",
    "\n",
    "if __name__ == \"__main__\":\n",
    "    main()"
   ]
  },
  {
   "cell_type": "code",
   "execution_count": null,
   "metadata": {},
   "outputs": [],
   "source": [
    "for i in range(len(movies['popularity'])): \n",
    "    movies['popularity'][i] = movies['popularity'][i]/10"
   ]
  },
  {
   "cell_type": "code",
   "execution_count": null,
   "metadata": {},
   "outputs": [],
   "source": [
    "movies['popularity']"
   ]
  },
  {
   "cell_type": "code",
   "execution_count": null,
   "metadata": {},
   "outputs": [],
   "source": [
    "import torch\n",
    "import torch.nn as nn\n",
    "import torch.nn.functional as F\n",
    "\n",
    "class Net(nn.Module):\n",
    "\n",
    "    def __init__(self):\n",
    "        super(Net, self).__init__()\n",
    "        # 1 input image channel, 6 output channels, 5x5 square convolution\n",
    "        # kernel\n",
    "        #self.conv1 = nn.Conv2d(1, 6, 5)\n",
    "        #self.conv2 = nn.Conv2d(6, 16, 5)\n",
    "        # an affine operation: y = Wx + b\n",
    "        #self.fc1 = nn.Linear(16 * 5 * 5, 120)  # 5*5 from image dimension\n",
    "        self.fc1 = nn.Linear(20, 15)\n",
    "        self.fc2 = nn.Linear(15, 10)\n",
    "        #self.fc2 = nn.Linear(16, )\n",
    "        #self.fc3 = nn.Linear(84, 10)\n",
    "\n",
    "    def forward(self, x):\n",
    "        # Max pooling over a (2, 2) window\n",
    "        #x = F.max_pool2d(F.relu(self.conv1(x)), (2, 2))\n",
    "        # If the size is a square, you can specify with a single number\n",
    "        #x = F.max_pool2d(F.relu(self.conv2(x)), 2)\n",
    "        #x = x.view(-1, self.num_flat_features(x))\n",
    "        #x = F.relu(self.fc1(x))\n",
    "        #x = F.relu(self.fc2(x))\n",
    "        #x = self.fc3(x)\n",
    "        x = F.relu(self.fc1(x))\n",
    "        x = F.relu(self.fc2(x))\n",
    "        return x\n",
    "\n",
    "    #def num_flat_features(self, x):\n",
    "    #    size = x.size()[1:]  # all dimensions except the batch dimension\n",
    "    #    num_features = 1\n",
    "    #    for s in size:\n",
    "    #        num_features *= s\n",
    "    #    return num_features\n",
    "\n",
    "net = Net()\n",
    "print(net) "
   ]
  },
  {
   "cell_type": "code",
   "execution_count": null,
   "metadata": {},
   "outputs": [],
   "source": [
    "train_dataloader = DataLoader(my_dataset, batch_size=256, shuffle=True)\n",
    "model1 = ResNet34()\n",
    "nlpModel = tf.keras.models.load_model('savedNlpModel')\n",
    "finalTrainingData = []\n",
    "for i, (test, train) in enumerate(train_dataloader):\n",
    "    genre1 = model1(train)\n",
    "    genre2 = nlpModel(train)\n",
    "    finalTrainingData.append(genre1 + genre2)\n",
    "\n",
    "finalTrainingData = np.array(finalTrainingData)"
   ]
  },
  {
   "cell_type": "code",
   "execution_count": null,
   "metadata": {},
   "outputs": [],
   "source": [
    "from torch.utils.data import TensorDataset\n",
    "from torch.utils.data import DataLoader\n",
    "\n",
    "tensor_x = torch.Tensor(finalTrainingData) # transform to torch tensor\n",
    "tensor_y = torch.Tensor(movies['popularity'])\n",
    "my_dataset = TensorDataset(tensor_x,tensor_y) # create your dataset"
   ]
  },
  {
   "cell_type": "code",
   "execution_count": null,
   "metadata": {},
   "outputs": [],
   "source": [
    "def main():\n",
    "    n_epochs = 10 #config[\"num_epochs\"]\n",
    "    model = Net() #\n",
    "    criterion = torch.nn.MSELoss() #what is your loss function\n",
    "    optimizer = torch.optim.SGD(model.parameters(), lr=0.001) #temp\n",
    "    train_dataset = loadImages()\n",
    "    train_dataloader = DataLoader(my_dataset, batch_size=256, shuffle=True)\n",
    "    #val_loader = #how will you get your dataset\n",
    "    #val_loader = #how will you use pytorch's function to build a dataloader\n",
    "    for epoch in range(n_epochs):\n",
    "            train(train_dataloader, model, criterion, optimizer, epoch)\n",
    "            \n",
    "         #TODO: make your loop which trains and validates. Use the train() func\n",
    "\n",
    "         #TODO: Save your checkpoint\n",
    "\n",
    "main()"
   ]
  },
  {
   "cell_type": "code",
   "execution_count": null,
   "metadata": {},
   "outputs": [],
   "source": [
    "for value in range(len(epoch)):\n",
    "    net(model)"
   ]
  },
  {
   "cell_type": "code",
   "execution_count": null,
   "metadata": {},
   "outputs": [],
   "source": [
    "def resNetOutput():\n",
    "    for image in images: \n",
    "        genre = model(image)"
   ]
  }
 ],
 "metadata": {
  "kernelspec": {
   "display_name": "Python 3",
   "language": "python",
   "name": "python3"
  },
  "language_info": {
   "codemirror_mode": {
    "name": "ipython",
    "version": 3
   },
   "file_extension": ".py",
   "mimetype": "text/x-python",
   "name": "python",
   "nbconvert_exporter": "python",
   "pygments_lexer": "ipython3",
   "version": "3.7.10"
  }
 },
 "nbformat": 4,
 "nbformat_minor": 4
}
