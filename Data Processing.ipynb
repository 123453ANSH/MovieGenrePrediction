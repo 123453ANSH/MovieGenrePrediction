{
 "cells": [
  {
   "cell_type": "code",
   "execution_count": 2,
   "metadata": {},
   "outputs": [
    {
     "name": "stderr",
     "output_type": "stream",
     "text": [
      "Using TensorFlow backend.\n"
     ]
    }
   ],
   "source": [
    "import numpy as np\n",
    "import pandas as pd\n",
    "\n",
    "import keras\n",
    "from keras.preprocessing import image\n",
    "\n",
    "from tqdm import tqdm"
   ]
  },
  {
   "cell_type": "code",
   "execution_count": 3,
   "metadata": {},
   "outputs": [
    {
     "name": "stderr",
     "output_type": "stream",
     "text": [
      "C:\\Python\\lib\\site-packages\\IPython\\core\\interactiveshell.py:3057: DtypeWarning: Columns (10) have mixed types. Specify dtype option on import or set low_memory=False.\n",
      "  interactivity=interactivity, compiler=compiler, result=result)\n"
     ]
    },
    {
     "name": "stdout",
     "output_type": "stream",
     "text": [
      "Shape:  (45466, 24)\n",
      "Features:  Index(['adult', 'belongs_to_collection', 'budget', 'genres', 'homepage', 'id',\n",
      "       'imdb_id', 'original_language', 'original_title', 'overview',\n",
      "       'popularity', 'poster_path', 'production_companies',\n",
      "       'production_countries', 'release_date', 'revenue', 'runtime',\n",
      "       'spoken_languages', 'status', 'tagline', 'title', 'video',\n",
      "       'vote_average', 'vote_count'],\n",
      "      dtype='object')\n"
     ]
    }
   ],
   "source": [
    "movies = pd.read_csv('archive/movies_metadata.csv')\n",
    "print(\"Shape: \", movies.shape)\n",
    "print(\"Features: \", movies.columns)"
   ]
  },
  {
   "cell_type": "code",
   "execution_count": 19,
   "metadata": {},
   "outputs": [
    {
     "data": {
      "text/plain": [
       "0    tt0114709\n",
       "1    tt0113497\n",
       "2    tt0113228\n",
       "3    tt0114885\n",
       "4    tt0113041\n",
       "Name: imdb_id, dtype: object"
      ]
     },
     "execution_count": 19,
     "metadata": {},
     "output_type": "execute_result"
    }
   ],
   "source": [
    "movies.head()['imdb_id']"
   ]
  },
  {
   "cell_type": "code",
   "execution_count": 5,
   "metadata": {},
   "outputs": [
    {
     "data": {
      "text/plain": [
       "0    [{'id': 16, 'name': 'Animation'}, {'id': 35, '...\n",
       "1    [{'id': 12, 'name': 'Adventure'}, {'id': 14, '...\n",
       "2    [{'id': 10749, 'name': 'Romance'}, {'id': 35, ...\n",
       "3    [{'id': 35, 'name': 'Comedy'}, {'id': 18, 'nam...\n",
       "4                       [{'id': 35, 'name': 'Comedy'}]\n",
       "Name: genres, dtype: object"
      ]
     },
     "execution_count": 5,
     "metadata": {},
     "output_type": "execute_result"
    }
   ],
   "source": [
    "movies.head()['genres']"
   ]
  },
  {
   "cell_type": "code",
   "execution_count": 6,
   "metadata": {},
   "outputs": [
    {
     "data": {
      "text/plain": [
       "0    /rhIRbceoE9lR4veEXuwCC2wARtG.jpg\n",
       "1    /vzmL6fP7aPKNKPRTFnZmiUfciyV.jpg\n",
       "2    /6ksm1sjKMFLbO7UY2i6G1ju9SML.jpg\n",
       "3    /16XOMpEaLWkrcPqSQqhTmeJuqQl.jpg\n",
       "4    /e64sOI48hQXyru7naBFyssKFxVd.jpg\n",
       "Name: poster_path, dtype: object"
      ]
     },
     "execution_count": 6,
     "metadata": {},
     "output_type": "execute_result"
    }
   ],
   "source": [
    "movies.head()['poster_path']"
   ]
  },
  {
   "cell_type": "code",
   "execution_count": 20,
   "metadata": {},
   "outputs": [
    {
     "data": {
      "text/plain": [
       "\"[{'id': 16, 'name': 'Animation'}, {'id': 35, 'name': 'Comedy'}, {'id': 10751, 'name': 'Family'}]\""
      ]
     },
     "execution_count": 20,
     "metadata": {},
     "output_type": "execute_result"
    }
   ],
   "source": [
    "movies.head()['genres'][0]"
   ]
  },
  {
   "cell_type": "code",
   "execution_count": 16,
   "metadata": {
    "scrolled": true
   },
   "outputs": [
    {
     "name": "stdout",
     "output_type": "stream",
     "text": [
      "Not Found:  Toy Story https://www.themoviedb.org/t/p/w1280/rhIRbceoE9lR4veEXuwCC2wARtG.jpg\n",
      "Not Found:  Grumpier Old Men https://www.themoviedb.org/t/p/w1280/6ksm1sjKMFLbO7UY2i6G1ju9SML.jpg\n",
      "Not Found:  Waiting to Exhale https://www.themoviedb.org/t/p/w1280/16XOMpEaLWkrcPqSQqhTmeJuqQl.jpg\n",
      "Not Found:  Father of the Bride Part II https://www.themoviedb.org/t/p/w1280/e64sOI48hQXyru7naBFyssKFxVd.jpg\n",
      "Not Found:  Heat https://www.themoviedb.org/t/p/w1280/zMyfPUelumio3tiDKPffaUpsQTD.jpg\n",
      "Not Found:  Sabrina https://www.themoviedb.org/t/p/w1280/jQh15y5YB7bWz1NtffNZmRw0s9D.jpg\n",
      "Not Found:  Tom and Huck https://www.themoviedb.org/t/p/w1280/sGO5Qa55p7wTu7FJcX4H4xIVKvS.jpg\n",
      "Not Found:  Sudden Death https://www.themoviedb.org/t/p/w1280/eoWvKD60lT95Ss1MYNgVExpo5iU.jpg\n",
      "Not Found:  GoldenEye https://www.themoviedb.org/t/p/w1280/5c0ovjT41KnYIHYuF4AWsTe3sKh.jpg\n",
      "Not Found:  The American President https://www.themoviedb.org/t/p/w1280/lymPNGLZgPHuqM29rKMGV46ANij.jpg\n",
      "Not Found:  Dracula: Dead and Loving It https://www.themoviedb.org/t/p/w1280/xve4cgfYItnOhtzLYoTwTVy5FGr.jpg\n"
     ]
    }
   ],
   "source": [
    "import os\n",
    "import requests\n",
    "import re\n",
    "import shutil\n",
    "\n",
    "from io import BytesIO\n",
    "from PIL import Image\n",
    "\n",
    "from BeautifulSoup import BeautifulSoup\n",
    "import imdb\n",
    "\n",
    "def download_posters(downloaded_image_dir, title, poster_path):\n",
    "    if not os.path.exists(downloaded_image_dir):\n",
    "        os.makedirs(downloaded_image_dir)\n",
    "    \n",
    "    imgUrl = \"https://www.themoviedb.org/t/p/w1280\" + str(poster_path)\n",
    "    filename = re.sub(r'\\W+', ' ', title).lower().strip().replace(\" \", \"-\") + '.jpg'\n",
    "    \n",
    "    \"\"\"\n",
    "    try:\n",
    "        r = requests.get(imgUrl, stream=True)\n",
    "        if r.status_code == 200:\n",
    "            with open(downloaded_image_dir + '/' + filename, 'wb') as f:\n",
    "                r.raw.decode_content = True\n",
    "                shutil.copyfileobj(r.raw, f)\n",
    "        else:\n",
    "            print(\"Not Found: \", title, imgUrl)\n",
    "        \n",
    "    except:\n",
    "        print(\"Error Dowloading: \", title, imgUrl)\n",
    "    \"\"\"\n",
    "    \n",
    "    access = imdb.IMDb()\n",
    "    movie = access.get_movie(1132626)\n",
    "\n",
    "    page = urllib2.urlopen(access.get_imdbURL(movie))\n",
    "    soup = BeautifulSoup(page)\n",
    "    cover_div = soup.find(attrs={\"class\" : \"photo\"})\n",
    "    cover_url = (photo_div.find('img'))['src']\n",
    "    print \"Cover url: %s\" % cover_url\n",
    "    \n",
    "    \n",
    "\n",
    "for index, row in movies.iterrows():\n",
    "    download_posters(\n",
    "        'images_movies_genre',\n",
    "        str(row['title']),\n",
    "        row['poster_path']\n",
    "    )\n",
    "    \n",
    "    if index > 10:\n",
    "        break\n",
    "        "
   ]
  },
  {
   "cell_type": "code",
   "execution_count": null,
   "metadata": {},
   "outputs": [],
   "source": [
    "X = []\n",
    "\n",
    "for i in tqdm(range(movies.shape[0])):\n",
    "    img = image.load_img(path, target_size=(350, 350, 3))\n",
    "    img = image.img_to_array(img)\n",
    "    img = img/255.0\n",
    "    X.append(img)\n",
    "    \n",
    "X = np.array(X)"
   ]
  },
  {
   "cell_type": "code",
   "execution_count": null,
   "metadata": {},
   "outputs": [],
   "source": [
    "X = []\n",
    "\n",
    "for i in tqdm(range(movies.shape[0])):\n",
    "    img = image.load_img(path, target_size=(350, 350, 3))\n",
    "    img = image.img_to_array(img)\n",
    "    img = img/255.0\n",
    "    X.append(img)\n",
    "    \n",
    "for i in range(5):\n",
    "    filename = re.sub(r'\\W+', ' ', title).lower().strip().replace(\" \", \"-\") + '.jpg'\n",
    "    print(filename)\n",
    "\n",
    "    \n",
    "X = np.array(X)"
   ]
  },
  {
   "cell_type": "code",
   "execution_count": null,
   "metadata": {},
   "outputs": [],
   "source": [
    "# Padding\n",
    "\n",
    "# Create a larger zero canvas\n",
    "canvas = np.zeros(512, 512, 3)\n",
    "\n",
    "# Overlay with image\n",
    "canvas[6:506, 6:506] = your_500_500_img"
   ]
  }
 ],
 "metadata": {
  "kernelspec": {
   "display_name": "Python 3",
   "language": "python",
   "name": "python3"
  },
  "language_info": {
   "codemirror_mode": {
    "name": "ipython",
    "version": 3
   },
   "file_extension": ".py",
   "mimetype": "text/x-python",
   "name": "python",
   "nbconvert_exporter": "python",
   "pygments_lexer": "ipython3",
   "version": "3.7.3"
  }
 },
 "nbformat": 4,
 "nbformat_minor": 4
}
