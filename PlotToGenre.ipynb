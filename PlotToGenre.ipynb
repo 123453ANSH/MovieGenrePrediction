{
 "cells": [
  {
   "cell_type": "code",
   "execution_count": 1,
   "metadata": {},
   "outputs": [
    {
     "name": "stderr",
     "output_type": "stream",
     "text": [
      "Using TensorFlow backend.\n",
      "/opt/anaconda3/envs/nmep/lib/python3.6/site-packages/tensorflow/python/framework/dtypes.py:516: FutureWarning: Passing (type, 1) or '1type' as a synonym of type is deprecated; in a future version of numpy, it will be understood as (type, (1,)) / '(1,)type'.\n",
      "  _np_qint8 = np.dtype([(\"qint8\", np.int8, 1)])\n",
      "/opt/anaconda3/envs/nmep/lib/python3.6/site-packages/tensorflow/python/framework/dtypes.py:517: FutureWarning: Passing (type, 1) or '1type' as a synonym of type is deprecated; in a future version of numpy, it will be understood as (type, (1,)) / '(1,)type'.\n",
      "  _np_quint8 = np.dtype([(\"quint8\", np.uint8, 1)])\n",
      "/opt/anaconda3/envs/nmep/lib/python3.6/site-packages/tensorflow/python/framework/dtypes.py:518: FutureWarning: Passing (type, 1) or '1type' as a synonym of type is deprecated; in a future version of numpy, it will be understood as (type, (1,)) / '(1,)type'.\n",
      "  _np_qint16 = np.dtype([(\"qint16\", np.int16, 1)])\n",
      "/opt/anaconda3/envs/nmep/lib/python3.6/site-packages/tensorflow/python/framework/dtypes.py:519: FutureWarning: Passing (type, 1) or '1type' as a synonym of type is deprecated; in a future version of numpy, it will be understood as (type, (1,)) / '(1,)type'.\n",
      "  _np_quint16 = np.dtype([(\"quint16\", np.uint16, 1)])\n",
      "/opt/anaconda3/envs/nmep/lib/python3.6/site-packages/tensorflow/python/framework/dtypes.py:520: FutureWarning: Passing (type, 1) or '1type' as a synonym of type is deprecated; in a future version of numpy, it will be understood as (type, (1,)) / '(1,)type'.\n",
      "  _np_qint32 = np.dtype([(\"qint32\", np.int32, 1)])\n",
      "/opt/anaconda3/envs/nmep/lib/python3.6/site-packages/tensorflow/python/framework/dtypes.py:525: FutureWarning: Passing (type, 1) or '1type' as a synonym of type is deprecated; in a future version of numpy, it will be understood as (type, (1,)) / '(1,)type'.\n",
      "  np_resource = np.dtype([(\"resource\", np.ubyte, 1)])\n",
      "/opt/anaconda3/envs/nmep/lib/python3.6/site-packages/tensorboard/compat/tensorflow_stub/dtypes.py:541: FutureWarning: Passing (type, 1) or '1type' as a synonym of type is deprecated; in a future version of numpy, it will be understood as (type, (1,)) / '(1,)type'.\n",
      "  _np_qint8 = np.dtype([(\"qint8\", np.int8, 1)])\n",
      "/opt/anaconda3/envs/nmep/lib/python3.6/site-packages/tensorboard/compat/tensorflow_stub/dtypes.py:542: FutureWarning: Passing (type, 1) or '1type' as a synonym of type is deprecated; in a future version of numpy, it will be understood as (type, (1,)) / '(1,)type'.\n",
      "  _np_quint8 = np.dtype([(\"quint8\", np.uint8, 1)])\n",
      "/opt/anaconda3/envs/nmep/lib/python3.6/site-packages/tensorboard/compat/tensorflow_stub/dtypes.py:543: FutureWarning: Passing (type, 1) or '1type' as a synonym of type is deprecated; in a future version of numpy, it will be understood as (type, (1,)) / '(1,)type'.\n",
      "  _np_qint16 = np.dtype([(\"qint16\", np.int16, 1)])\n",
      "/opt/anaconda3/envs/nmep/lib/python3.6/site-packages/tensorboard/compat/tensorflow_stub/dtypes.py:544: FutureWarning: Passing (type, 1) or '1type' as a synonym of type is deprecated; in a future version of numpy, it will be understood as (type, (1,)) / '(1,)type'.\n",
      "  _np_quint16 = np.dtype([(\"quint16\", np.uint16, 1)])\n",
      "/opt/anaconda3/envs/nmep/lib/python3.6/site-packages/tensorboard/compat/tensorflow_stub/dtypes.py:545: FutureWarning: Passing (type, 1) or '1type' as a synonym of type is deprecated; in a future version of numpy, it will be understood as (type, (1,)) / '(1,)type'.\n",
      "  _np_qint32 = np.dtype([(\"qint32\", np.int32, 1)])\n",
      "/opt/anaconda3/envs/nmep/lib/python3.6/site-packages/tensorboard/compat/tensorflow_stub/dtypes.py:550: FutureWarning: Passing (type, 1) or '1type' as a synonym of type is deprecated; in a future version of numpy, it will be understood as (type, (1,)) / '(1,)type'.\n",
      "  np_resource = np.dtype([(\"resource\", np.ubyte, 1)])\n"
     ]
    }
   ],
   "source": [
    "from numpy import array\n",
    "from keras.preprocessing.text import one_hot\n",
    "from keras.preprocessing.sequence import pad_sequences\n",
    "from keras.models import Sequential\n",
    "from keras.layers.core import Activation, Dropout, Dense\n",
    "from keras.layers import Flatten, LSTM\n",
    "from keras.layers import GlobalMaxPooling1D\n",
    "from keras.models import Model\n",
    "from keras.layers.embeddings import Embedding\n",
    "from sklearn.model_selection import train_test_split\n",
    "from keras.preprocessing.text import Tokenizer\n",
    "from keras.layers import Input\n",
    "from keras.layers.merge import Concatenate\n",
    "\n",
    "import pandas as pd\n",
    "import numpy as np\n",
    "import re\n",
    "\n",
    "import matplotlib.pyplot as plt"
   ]
  },
  {
   "cell_type": "code",
   "execution_count": 2,
   "metadata": {},
   "outputs": [],
   "source": [
    "overviews=pd.read_csv(\"MoviesWithOverviews.csv\")"
   ]
  },
  {
   "cell_type": "code",
   "execution_count": 3,
   "metadata": {},
   "outputs": [
    {
     "name": "stdout",
     "output_type": "stream",
     "text": [
      "(45466, 33)\n"
     ]
    }
   ],
   "source": [
    "print(overviews.shape)"
   ]
  },
  {
   "cell_type": "code",
   "execution_count": 4,
   "metadata": {},
   "outputs": [],
   "source": [
    "#reference-https://stackabuse.com/python-for-nlp-multi-label-text-classification-with-keras/"
   ]
  },
  {
   "cell_type": "code",
   "execution_count": 5,
   "metadata": {},
   "outputs": [],
   "source": [
    "#filter = overviews[\"overview\"] != \"\"\n",
    "#overviews = overviews[filter]\n",
    "#overviews = overviews.dropna()"
   ]
  },
  {
   "cell_type": "code",
   "execution_count": 6,
   "metadata": {},
   "outputs": [
    {
     "data": {
      "text/plain": [
       "954"
      ]
     },
     "execution_count": 6,
     "metadata": {},
     "output_type": "execute_result"
    }
   ],
   "source": [
    "overviews['overview'].isnull().sum()"
   ]
  },
  {
   "cell_type": "code",
   "execution_count": 7,
   "metadata": {},
   "outputs": [
    {
     "name": "stdout",
     "output_type": "stream",
     "text": [
      "(44512, 33)\n",
      "                                                overview  Action  Adventure  \\\n",
      "0      Led by Woody, Andy's toys live happily in his ...       0          0   \n",
      "1      When siblings Judy and Peter discover an encha...       0          1   \n",
      "2      A family wedding reignites the ancient feud be...       0          0   \n",
      "3      Cheated on, mistreated and stepped on, the wom...       0          0   \n",
      "4      Just when George Banks has recovered from his ...       0          0   \n",
      "...                                                  ...     ...        ...   \n",
      "45461        Rising and falling between a man and woman.       0          0   \n",
      "45462  An artist struggles to finish his work while a...       0          0   \n",
      "45463  When one of her hits goes wrong, a professiona...       1          0   \n",
      "45464  In a small town live two brothers, one a minis...       0          0   \n",
      "45465  50 years after decriminalisation of homosexual...       0          0   \n",
      "\n",
      "       Animation  Aniplex  BROSTA TV  Carousel Productions  Comedy  Crime  \\\n",
      "0              1        0          0                     0       1      0   \n",
      "1              0        0          0                     0       0      0   \n",
      "2              0        0          0                     0       1      0   \n",
      "3              0        0          0                     0       1      0   \n",
      "4              0        0          0                     0       1      0   \n",
      "...          ...      ...        ...                   ...     ...    ...   \n",
      "45461          0        0          0                     0       0      0   \n",
      "45462          0        0          0                     0       0      0   \n",
      "45463          0        0          0                     0       0      0   \n",
      "45464          0        0          0                     0       0      0   \n",
      "45465          0        0          0                     0       0      0   \n",
      "\n",
      "       Documentary  ...  Romance  Science Fiction  Sentai Filmworks  TV Movie  \\\n",
      "0                0  ...        0                0                 0         0   \n",
      "1                0  ...        0                0                 0         0   \n",
      "2                0  ...        1                0                 0         0   \n",
      "3                0  ...        1                0                 0         0   \n",
      "4                0  ...        0                0                 0         0   \n",
      "...            ...  ...      ...              ...               ...       ...   \n",
      "45461            0  ...        0                0                 0         0   \n",
      "45462            0  ...        0                0                 0         0   \n",
      "45463            0  ...        0                0                 0         0   \n",
      "45464            0  ...        0                0                 0         0   \n",
      "45465            0  ...        0                0                 0         0   \n",
      "\n",
      "       Telescene Film Group Productions  The Cartel  Thriller  \\\n",
      "0                                     0           0         0   \n",
      "1                                     0           0         0   \n",
      "2                                     0           0         0   \n",
      "3                                     0           0         0   \n",
      "4                                     0           0         0   \n",
      "...                                 ...         ...       ...   \n",
      "45461                                 0           0         0   \n",
      "45462                                 0           0         0   \n",
      "45463                                 0           0         1   \n",
      "45464                                 0           0         0   \n",
      "45465                                 0           0         0   \n",
      "\n",
      "       Vision View Entertainment  War  Western  \n",
      "0                              0    0        0  \n",
      "1                              0    0        0  \n",
      "2                              0    0        0  \n",
      "3                              0    0        0  \n",
      "4                              0    0        0  \n",
      "...                          ...  ...      ...  \n",
      "45461                          0    0        0  \n",
      "45462                          0    0        0  \n",
      "45463                          0    0        0  \n",
      "45464                          0    0        0  \n",
      "45465                          0    0        0  \n",
      "\n",
      "[44512 rows x 33 columns]\n"
     ]
    }
   ],
   "source": [
    "overviews.dropna(subset = [\"overview\"], inplace=True)\n",
    "print(overviews.shape)\n",
    "print(overviews)\n"
   ]
  },
  {
   "cell_type": "code",
   "execution_count": 8,
   "metadata": {},
   "outputs": [],
   "source": [
    "overviews.fillna(0, inplace=True)\n"
   ]
  },
  {
   "cell_type": "code",
   "execution_count": 9,
   "metadata": {},
   "outputs": [],
   "source": [
    "# Text cleaning\n",
    "#reference: https://www.analyticsvidhya.com/blog/2019/04/predicting-movie-genres-nlp-multi-label-classification/\n",
    "\n",
    "from nltk.corpus import stopwords\n",
    "stop_words = set(stopwords.words('english'))\n",
    "\n",
    "def clean_text(text): \n",
    "    #removing everything except letters and converting to lower case\n",
    "    text = re.sub(\"[^a-zA-Z]\",\" \",str(text))\n",
    "    text = ' '.join(text.split())\n",
    "    text = text.lower() \n",
    "    return text\n",
    "\n",
    "# Removing stopwords such as the, and, to, or etc\n",
    "def remove_stopwords(text):\n",
    "    no_stopword_text = [w for w in text.split() if not w in stop_words]\n",
    "    return ' '.join(no_stopword_text)"
   ]
  },
  {
   "cell_type": "code",
   "execution_count": 10,
   "metadata": {},
   "outputs": [
    {
     "name": "stdout",
     "output_type": "stream",
     "text": [
      "Features:  Index(['overview', 'clean_overview', 'Action', 'Adventure', 'Animation',\n",
      "       'Aniplex', 'BROSTA TV', 'Carousel Productions', 'Comedy', 'Crime',\n",
      "       'Documentary', 'Drama', 'Family', 'Fantasy', 'Foreign', 'GoHands',\n",
      "       'History', 'Horror', 'Mardock Scramble Production Committee', 'Music',\n",
      "       'Mystery', 'Odyssey Media', 'Pulser Productions', 'Rogue State',\n",
      "       'Romance', 'Science Fiction', 'Sentai Filmworks', 'TV Movie',\n",
      "       'Telescene Film Group Productions', 'The Cartel', 'Thriller',\n",
      "       'Vision View Entertainment', 'War', 'Western'],\n",
      "      dtype='object')\n"
     ]
    }
   ],
   "source": [
    "plot_summaries=[]\n",
    "for text in overviews['overview']:\n",
    "    cleanText=clean_text(text)\n",
    "    textWithoutStopwords=remove_stopwords(cleanText)\n",
    "    plot_summaries+=[textWithoutStopwords]\n",
    "overviews.insert(1,\"clean_overview\", plot_summaries, True)\n",
    "print(\"Features: \", overviews.columns)"
   ]
  },
  {
   "cell_type": "code",
   "execution_count": 11,
   "metadata": {},
   "outputs": [
    {
     "data": {
      "text/html": [
       "<div>\n",
       "<style scoped>\n",
       "    .dataframe tbody tr th:only-of-type {\n",
       "        vertical-align: middle;\n",
       "    }\n",
       "\n",
       "    .dataframe tbody tr th {\n",
       "        vertical-align: top;\n",
       "    }\n",
       "\n",
       "    .dataframe thead th {\n",
       "        text-align: right;\n",
       "    }\n",
       "</style>\n",
       "<table border=\"1\" class=\"dataframe\">\n",
       "  <thead>\n",
       "    <tr style=\"text-align: right;\">\n",
       "      <th></th>\n",
       "      <th>Action</th>\n",
       "      <th>Adventure</th>\n",
       "      <th>Animation</th>\n",
       "      <th>Aniplex</th>\n",
       "      <th>BROSTA TV</th>\n",
       "      <th>Carousel Productions</th>\n",
       "      <th>Comedy</th>\n",
       "      <th>Crime</th>\n",
       "      <th>Documentary</th>\n",
       "      <th>Drama</th>\n",
       "      <th>...</th>\n",
       "      <th>Romance</th>\n",
       "      <th>Science Fiction</th>\n",
       "      <th>Sentai Filmworks</th>\n",
       "      <th>TV Movie</th>\n",
       "      <th>Telescene Film Group Productions</th>\n",
       "      <th>The Cartel</th>\n",
       "      <th>Thriller</th>\n",
       "      <th>Vision View Entertainment</th>\n",
       "      <th>War</th>\n",
       "      <th>Western</th>\n",
       "    </tr>\n",
       "  </thead>\n",
       "  <tbody>\n",
       "    <tr>\n",
       "      <th>0</th>\n",
       "      <td>0</td>\n",
       "      <td>0</td>\n",
       "      <td>1</td>\n",
       "      <td>0</td>\n",
       "      <td>0</td>\n",
       "      <td>0</td>\n",
       "      <td>1</td>\n",
       "      <td>0</td>\n",
       "      <td>0</td>\n",
       "      <td>0</td>\n",
       "      <td>...</td>\n",
       "      <td>0</td>\n",
       "      <td>0</td>\n",
       "      <td>0</td>\n",
       "      <td>0</td>\n",
       "      <td>0</td>\n",
       "      <td>0</td>\n",
       "      <td>0</td>\n",
       "      <td>0</td>\n",
       "      <td>0</td>\n",
       "      <td>0</td>\n",
       "    </tr>\n",
       "    <tr>\n",
       "      <th>1</th>\n",
       "      <td>0</td>\n",
       "      <td>1</td>\n",
       "      <td>0</td>\n",
       "      <td>0</td>\n",
       "      <td>0</td>\n",
       "      <td>0</td>\n",
       "      <td>0</td>\n",
       "      <td>0</td>\n",
       "      <td>0</td>\n",
       "      <td>0</td>\n",
       "      <td>...</td>\n",
       "      <td>0</td>\n",
       "      <td>0</td>\n",
       "      <td>0</td>\n",
       "      <td>0</td>\n",
       "      <td>0</td>\n",
       "      <td>0</td>\n",
       "      <td>0</td>\n",
       "      <td>0</td>\n",
       "      <td>0</td>\n",
       "      <td>0</td>\n",
       "    </tr>\n",
       "    <tr>\n",
       "      <th>2</th>\n",
       "      <td>0</td>\n",
       "      <td>0</td>\n",
       "      <td>0</td>\n",
       "      <td>0</td>\n",
       "      <td>0</td>\n",
       "      <td>0</td>\n",
       "      <td>1</td>\n",
       "      <td>0</td>\n",
       "      <td>0</td>\n",
       "      <td>0</td>\n",
       "      <td>...</td>\n",
       "      <td>1</td>\n",
       "      <td>0</td>\n",
       "      <td>0</td>\n",
       "      <td>0</td>\n",
       "      <td>0</td>\n",
       "      <td>0</td>\n",
       "      <td>0</td>\n",
       "      <td>0</td>\n",
       "      <td>0</td>\n",
       "      <td>0</td>\n",
       "    </tr>\n",
       "    <tr>\n",
       "      <th>3</th>\n",
       "      <td>0</td>\n",
       "      <td>0</td>\n",
       "      <td>0</td>\n",
       "      <td>0</td>\n",
       "      <td>0</td>\n",
       "      <td>0</td>\n",
       "      <td>1</td>\n",
       "      <td>0</td>\n",
       "      <td>0</td>\n",
       "      <td>1</td>\n",
       "      <td>...</td>\n",
       "      <td>1</td>\n",
       "      <td>0</td>\n",
       "      <td>0</td>\n",
       "      <td>0</td>\n",
       "      <td>0</td>\n",
       "      <td>0</td>\n",
       "      <td>0</td>\n",
       "      <td>0</td>\n",
       "      <td>0</td>\n",
       "      <td>0</td>\n",
       "    </tr>\n",
       "    <tr>\n",
       "      <th>4</th>\n",
       "      <td>0</td>\n",
       "      <td>0</td>\n",
       "      <td>0</td>\n",
       "      <td>0</td>\n",
       "      <td>0</td>\n",
       "      <td>0</td>\n",
       "      <td>1</td>\n",
       "      <td>0</td>\n",
       "      <td>0</td>\n",
       "      <td>0</td>\n",
       "      <td>...</td>\n",
       "      <td>0</td>\n",
       "      <td>0</td>\n",
       "      <td>0</td>\n",
       "      <td>0</td>\n",
       "      <td>0</td>\n",
       "      <td>0</td>\n",
       "      <td>0</td>\n",
       "      <td>0</td>\n",
       "      <td>0</td>\n",
       "      <td>0</td>\n",
       "    </tr>\n",
       "  </tbody>\n",
       "</table>\n",
       "<p>5 rows × 32 columns</p>\n",
       "</div>"
      ],
      "text/plain": [
       "   Action  Adventure  Animation  Aniplex  BROSTA TV  Carousel Productions  \\\n",
       "0       0          0          1        0          0                     0   \n",
       "1       0          1          0        0          0                     0   \n",
       "2       0          0          0        0          0                     0   \n",
       "3       0          0          0        0          0                     0   \n",
       "4       0          0          0        0          0                     0   \n",
       "\n",
       "   Comedy  Crime  Documentary  Drama  ...  Romance  Science Fiction  \\\n",
       "0       1      0            0      0  ...        0                0   \n",
       "1       0      0            0      0  ...        0                0   \n",
       "2       1      0            0      0  ...        1                0   \n",
       "3       1      0            0      1  ...        1                0   \n",
       "4       1      0            0      0  ...        0                0   \n",
       "\n",
       "   Sentai Filmworks  TV Movie  Telescene Film Group Productions  The Cartel  \\\n",
       "0                 0         0                                 0           0   \n",
       "1                 0         0                                 0           0   \n",
       "2                 0         0                                 0           0   \n",
       "3                 0         0                                 0           0   \n",
       "4                 0         0                                 0           0   \n",
       "\n",
       "   Thriller  Vision View Entertainment  War  Western  \n",
       "0         0                          0    0        0  \n",
       "1         0                          0    0        0  \n",
       "2         0                          0    0        0  \n",
       "3         0                          0    0        0  \n",
       "4         0                          0    0        0  \n",
       "\n",
       "[5 rows x 32 columns]"
      ]
     },
     "execution_count": 11,
     "metadata": {},
     "output_type": "execute_result"
    }
   ],
   "source": [
    "genreLabels=overviews[[ 'Action', 'Adventure', 'Animation',\n",
    "       'Aniplex', 'BROSTA TV', 'Carousel Productions', 'Comedy', 'Crime',\n",
    "       'Documentary', 'Drama', 'Family', 'Fantasy', 'Foreign', 'GoHands',\n",
    "       'History', 'Horror', 'Mardock Scramble Production Committee', 'Music',\n",
    "       'Mystery', 'Odyssey Media', 'Pulser Productions', 'Rogue State',\n",
    "       'Romance', 'Science Fiction', 'Sentai Filmworks', 'TV Movie',\n",
    "       'Telescene Film Group Productions', 'The Cartel', 'Thriller',\n",
    "       'Vision View Entertainment', 'War', 'Western']]\n",
    "genreLabels.head()"
   ]
  },
  {
   "cell_type": "code",
   "execution_count": 12,
   "metadata": {},
   "outputs": [
    {
     "data": {
      "text/plain": [
       "<AxesSubplot:>"
      ]
     },
     "execution_count": 12,
     "metadata": {},
     "output_type": "execute_result"
    },
    {
     "data": {
      "image/png": "[encoded data removed]",
      "text/plain": [
       "<Figure size 720x576 with 1 Axes>"
      ]
     },
     "metadata": {
      "needs_background": "light"
     },
     "output_type": "display_data"
    }
   ],
   "source": [
    "fig_size = plt.rcParams[\"figure.figsize\"]\n",
    "fig_size[0] = 10\n",
    "fig_size[1] = 8\n",
    "plt.rcParams[\"figure.figsize\"] = fig_size\n",
    "genreLabels.sum(axis=0).plot.bar()"
   ]
  },
  {
   "cell_type": "code",
   "execution_count": 13,
   "metadata": {},
   "outputs": [],
   "source": [
    "X = []\n",
    "sentences = list(overviews[\"clean_overview\"])\n",
    "for sen in sentences:\n",
    "    X.append(sen)\n",
    "\n",
    "y = genreLabels.values"
   ]
  },
  {
   "cell_type": "code",
   "execution_count": 14,
   "metadata": {},
   "outputs": [],
   "source": [
    "X_train, X_test, y_train, y_test = train_test_split(X, y, test_size=0.20, random_state=42)"
   ]
  },
  {
   "cell_type": "code",
   "execution_count": 15,
   "metadata": {},
   "outputs": [],
   "source": [
    "tokenizer = Tokenizer()\n",
    "tokenizer.fit_on_texts(X_train)\n",
    "#number of unique words\n",
    "vocab_length = len(tokenizer.word_index) + 1"
   ]
  },
  {
   "cell_type": "code",
   "execution_count": 16,
   "metadata": {},
   "outputs": [],
   "source": [
    "#converting sentences to arrays\n",
    "X_train = tokenizer.texts_to_sequences(X_train)\n",
    "X_test = tokenizer.texts_to_sequences(X_test)"
   ]
  },
  {
   "cell_type": "code",
   "execution_count": 17,
   "metadata": {},
   "outputs": [
    {
     "name": "stderr",
     "output_type": "stream",
     "text": [
      "[nltk_data] Downloading package punkt to\n",
      "[nltk_data]     /Users/harshikajalan/nltk_data...\n",
      "[nltk_data]   Package punkt is already up-to-date!\n"
     ]
    },
    {
     "data": {
      "text/plain": [
       "True"
      ]
     },
     "execution_count": 17,
     "metadata": {},
     "output_type": "execute_result"
    }
   ],
   "source": [
    "import nltk\n",
    "nltk.download('punkt')"
   ]
  },
  {
   "cell_type": "code",
   "execution_count": 18,
   "metadata": {},
   "outputs": [
    {
     "name": "stdout",
     "output_type": "stream",
     "text": [
      "177\n"
     ]
    }
   ],
   "source": [
    "#Finding the number of words in the longest overveiw and applying padding\n",
    "from nltk.tokenize import word_tokenize\n",
    "\n",
    "word_count = lambda sentence: len(word_tokenize(sentence))\n",
    "longest_sentence = max(overviews[\"clean_overview\"], key=word_count)\n",
    "length_long_sentence = len(word_tokenize(longest_sentence))\n",
    "print(length_long_sentence )\n",
    "\n",
    "X_train = pad_sequences(X_train, length_long_sentence, padding='post')\n",
    "X_test = pad_sequences(X_test, length_long_sentence, padding='post')\n"
   ]
  },
  {
   "cell_type": "code",
   "execution_count": 19,
   "metadata": {},
   "outputs": [],
   "source": [
    "from numpy import array\n",
    "from numpy import asarray\n",
    "from numpy import zeros\n",
    "\n",
    "embeddings_dictionary = dict()\n",
    "glove_file = open('/Users/harshikajalan/Downloads/glove.6B/glove.6B.100d.txt', encoding=\"utf8\")#change path"
   ]
  },
  {
   "cell_type": "code",
   "execution_count": 20,
   "metadata": {},
   "outputs": [],
   "source": [
    "for line in glove_file:\n",
    "    records = line.split()\n",
    "    word = records[0]\n",
    "    vector_dimensions = asarray(records[1:], dtype='float32')\n",
    "    embeddings_dictionary [word] = vector_dimensions\n",
    "\n",
    "glove_file.close()"
   ]
  },
  {
   "cell_type": "code",
   "execution_count": 21,
   "metadata": {},
   "outputs": [],
   "source": [
    "#creating embedding matrix\n",
    "embedding_matrix = zeros((vocab_length, 100))\n",
    "for word, index in tokenizer.word_index.items():\n",
    "    embedding_vector = embeddings_dictionary.get(word)\n",
    "    if embedding_vector is not None:\n",
    "        embedding_matrix[index] = embedding_vector"
   ]
  },
  {
   "cell_type": "code",
   "execution_count": 22,
   "metadata": {},
   "outputs": [
    {
     "name": "stdout",
     "output_type": "stream",
     "text": [
      "WARNING:tensorflow:From /opt/anaconda3/envs/nmep/lib/python3.6/site-packages/tensorflow/python/ops/nn_impl.py:180: add_dispatch_support.<locals>.wrapper (from tensorflow.python.ops.array_ops) is deprecated and will be removed in a future version.\n",
      "Instructions for updating:\n",
      "Use tf.where in 2.0, which has the same broadcast rule as np.where\n"
     ]
    }
   ],
   "source": [
    "deep_inputs = Input(shape=(length_long_sentence,))\n",
    "embedding_layer = Embedding(vocab_length, 100, weights=[embedding_matrix], trainable=False)(deep_inputs)\n",
    "LSTM_Layer_1 = LSTM(128)(embedding_layer)\n",
    "dense_layer_1 = Dense(32, activation='sigmoid')(LSTM_Layer_1)\n",
    "model = Model(inputs=deep_inputs, outputs=dense_layer_1)\n",
    "\n",
    "model.compile(loss='binary_crossentropy', optimizer='adam', metrics=['acc'])"
   ]
  },
  {
   "cell_type": "code",
   "execution_count": 23,
   "metadata": {},
   "outputs": [
    {
     "name": "stdout",
     "output_type": "stream",
     "text": [
      "Model: \"model_1\"\n",
      "_________________________________________________________________\n",
      "Layer (type)                 Output Shape              Param #   \n",
      "=================================================================\n",
      "input_1 (InputLayer)         (None, 177)               0         \n",
      "_________________________________________________________________\n",
      "embedding_1 (Embedding)      (None, 177, 100)          6595900   \n",
      "_________________________________________________________________\n",
      "lstm_1 (LSTM)                (None, 128)               117248    \n",
      "_________________________________________________________________\n",
      "dense_1 (Dense)              (None, 32)                4128      \n",
      "=================================================================\n",
      "Total params: 6,717,276\n",
      "Trainable params: 121,376\n",
      "Non-trainable params: 6,595,900\n",
      "_________________________________________________________________\n",
      "None\n"
     ]
    }
   ],
   "source": [
    "print(model.summary())"
   ]
  },
  {
   "cell_type": "code",
   "execution_count": 25,
   "metadata": {},
   "outputs": [
    {
     "name": "stdout",
     "output_type": "stream",
     "text": [
      "Train on 28487 samples, validate on 7122 samples\n",
      "Epoch 1/10\n",
      "28487/28487 [==============================] - 71s 2ms/step - loss: 0.1781 - acc: 0.9362 - val_loss: 0.1753 - val_acc: 0.9376\n",
      "Epoch 2/10\n",
      "28487/28487 [==============================] - 65s 2ms/step - loss: 0.1778 - acc: 0.9364 - val_loss: 0.1751 - val_acc: 0.9377\n",
      "Epoch 3/10\n",
      "28487/28487 [==============================] - 64s 2ms/step - loss: 0.1777 - acc: 0.9363 - val_loss: 0.1749 - val_acc: 0.9377\n",
      "Epoch 4/10\n",
      "28487/28487 [==============================] - 71s 2ms/step - loss: 0.1777 - acc: 0.9364 - val_loss: 0.1751 - val_acc: 0.9377\n",
      "Epoch 5/10\n",
      "28487/28487 [==============================] - 66s 2ms/step - loss: 0.1776 - acc: 0.9365 - val_loss: 0.1753 - val_acc: 0.9377\n",
      "Epoch 6/10\n",
      "28487/28487 [==============================] - 67s 2ms/step - loss: 0.1776 - acc: 0.9365 - val_loss: 0.1749 - val_acc: 0.9377\n",
      "Epoch 7/10\n",
      "28487/28487 [==============================] - 67s 2ms/step - loss: 0.1777 - acc: 0.9365 - val_loss: 0.1754 - val_acc: 0.9377\n",
      "Epoch 8/10\n",
      "28487/28487 [==============================] - 67s 2ms/step - loss: 0.1777 - acc: 0.9365 - val_loss: 0.1752 - val_acc: 0.9377\n",
      "Epoch 9/10\n",
      "28487/28487 [==============================] - 70s 2ms/step - loss: 0.1777 - acc: 0.9364 - val_loss: 0.1751 - val_acc: 0.9377\n",
      "Epoch 10/10\n",
      "28487/28487 [==============================] - 66s 2ms/step - loss: 0.1776 - acc: 0.9364 - val_loss: 0.1753 - val_acc: 0.9377\n"
     ]
    }
   ],
   "source": [
    "history = model.fit(X_train, y_train, batch_size=128, epochs=10, verbose=1, validation_split=0.2)"
   ]
  },
  {
   "cell_type": "code",
   "execution_count": 26,
   "metadata": {},
   "outputs": [],
   "source": [
    "model.save('PlotToGenremodel.h5')"
   ]
  },
  {
   "cell_type": "code",
   "execution_count": 28,
   "metadata": {},
   "outputs": [],
   "source": [
    "predictions = model.predict(X_test)"
   ]
  },
  {
   "cell_type": "code",
   "execution_count": 30,
   "metadata": {},
   "outputs": [
    {
     "data": {
      "text/plain": [
       "(8903, 32)"
      ]
     },
     "execution_count": 30,
     "metadata": {},
     "output_type": "execute_result"
    }
   ],
   "source": [
    "predictions.shape"
   ]
  },
  {
   "cell_type": "code",
   "execution_count": 35,
   "metadata": {},
   "outputs": [],
   "source": [
    "df = pd.DataFrame(predictions)"
   ]
  },
  {
   "cell_type": "code",
   "execution_count": 36,
   "metadata": {},
   "outputs": [],
   "source": [
    "df.to_csv(\"Predictions.csv\")"
   ]
  },
  {
   "cell_type": "code",
   "execution_count": 33,
   "metadata": {},
   "outputs": [
    {
     "data": {
      "text/plain": [
       "array([1.27881378e-01, 5.52280545e-02, 2.86222696e-02, 5.65946102e-05,\n",
       "       4.69982624e-05, 1.23083591e-05, 2.55629212e-01, 9.88617837e-02,\n",
       "       9.75233614e-02, 4.86568958e-01, 5.08864522e-02, 4.59853411e-02,\n",
       "       3.84068489e-02, 5.56111336e-05, 2.85925567e-02, 1.13294184e-01,\n",
       "       3.85642052e-05, 3.60446274e-02, 6.30315840e-02, 4.06205654e-05,\n",
       "       3.29613686e-05, 3.46302986e-05, 1.35925800e-01, 5.65180182e-02,\n",
       "       5.29289246e-05, 1.70330405e-02, 2.24113464e-05, 3.46899033e-05,\n",
       "       1.38558537e-01, 2.59578228e-05, 3.22972238e-02, 2.52657235e-02],\n",
       "      dtype=float32)"
      ]
     },
     "execution_count": 33,
     "metadata": {},
     "output_type": "execute_result"
    }
   ],
   "source": [
    "predictions[0]"
   ]
  },
  {
   "cell_type": "code",
   "execution_count": null,
   "metadata": {},
   "outputs": [],
   "source": [
    "predictions.to"
   ]
  }
 ],
 "metadata": {
  "kernelspec": {
   "display_name": "nmep",
   "language": "python",
   "name": "nmep"
  },
  "language_info": {
   "codemirror_mode": {
    "name": "ipython",
    "version": 3
   },
   "file_extension": ".py",
   "mimetype": "text/x-python",
   "name": "python",
   "nbconvert_exporter": "python",
   "pygments_lexer": "ipython3",
   "version": "3.6.13"
  }
 },
 "nbformat": 4,
 "nbformat_minor": 4
}
